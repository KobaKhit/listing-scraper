{
 "cells": [
  {
   "cell_type": "code",
   "execution_count": 28,
   "metadata": {},
   "outputs": [],
   "source": [
    "import requests\n",
    "from tqdm import tqdm\n",
    "import math\n",
    "import itertools\n",
    "\n",
    "\n",
    "def get_events(league = 'NBA', start = \"2022-09-09\", end = \"9999-12-31\"):\n",
    "    '''\n",
    "    Get all league events on stubhub.\n",
    "    '''\n",
    "\n",
    "    event_category = {'NBA':{'path':'nba-tickets','categoryid': \"6453\"},\n",
    "                      'NFL':{'path':'nfl-tickets','categoryid': \"5084\"}}\n",
    "\n",
    "\n",
    "    url = f\"https://www.stubhub.com/{event_category[league]['path']}\"\n",
    "\n",
    "    querystring = {\"pageIndex\":\"1\",\n",
    "                \"gridFilterType\":\"0\",\n",
    "                \"sortBy\":\"0\",\n",
    "                \"method\":\"GetFilteredEvents\",\n",
    "                \"categoryId\": event_category[league]['categoryid'],\n",
    "                \"from\": start,\n",
    "                \"to\": end}\n",
    "\n",
    "    response = requests.request(\"POST\", url, params=querystring).json()\n",
    "\n",
    "    total_pages = math.ceil((response['totalCount'] - 2*response['pageSize'])/response['pageSize'])\n",
    "    items = response['items']\n",
    "    item_dicts = []\n",
    "    with tqdm(total=total_pages) as pbar:\n",
    "        while response['remaining'] > 0:\n",
    "            item_dicts.append(events)\n",
    "\n",
    "            querystring['pageIndex'] = int(querystring['pageIndex']) + 1\n",
    "            response = requests.request(\"POST\", url, params=querystring).json()\n",
    "            items = response['items']\n",
    "            pbar.update(1)\n",
    "            \n",
    "        # append last page\n",
    "        item_dicts.append(items)\n",
    "\n",
    "    return list(itertools.chain.from_iterable(item_dicts))"
   ]
  },
  {
   "cell_type": "code",
   "execution_count": 29,
   "metadata": {},
   "outputs": [
    {
     "ename": "TypeError",
     "evalue": "list indices must be integers or slices, not str",
     "output_type": "error",
     "traceback": [
      "\u001b[0;31m---------------------------------------------------------------------------\u001b[0m",
      "\u001b[0;31mTypeError\u001b[0m                                 Traceback (most recent call last)",
      "\u001b[1;32m/Users/i31145/Desktop/misc/dash-stubhub/stubhubAPI/test.ipynb Cell 2\u001b[0m in \u001b[0;36m<cell line: 1>\u001b[0;34m()\u001b[0m\n\u001b[0;32m----> <a href='vscode-notebook-cell:/Users/i31145/Desktop/misc/dash-stubhub/stubhubAPI/test.ipynb#W1sZmlsZQ%3D%3D?line=0'>1</a>\u001b[0m evs \u001b[39m=\u001b[39m get_events(\u001b[39m'\u001b[39;49m\u001b[39mNFL\u001b[39;49m\u001b[39m'\u001b[39;49m)\n",
      "\u001b[1;32m/Users/i31145/Desktop/misc/dash-stubhub/stubhubAPI/test.ipynb Cell 2\u001b[0m in \u001b[0;36mget_events\u001b[0;34m(league, start, end)\u001b[0m\n\u001b[1;32m     <a href='vscode-notebook-cell:/Users/i31145/Desktop/misc/dash-stubhub/stubhubAPI/test.ipynb#W1sZmlsZQ%3D%3D?line=27'>28</a>\u001b[0m total_pages \u001b[39m=\u001b[39m math\u001b[39m.\u001b[39mceil((response[\u001b[39m'\u001b[39m\u001b[39mtotalCount\u001b[39m\u001b[39m'\u001b[39m] \u001b[39m-\u001b[39m \u001b[39m2\u001b[39m\u001b[39m*\u001b[39mresponse[\u001b[39m'\u001b[39m\u001b[39mpageSize\u001b[39m\u001b[39m'\u001b[39m])\u001b[39m/\u001b[39mresponse[\u001b[39m'\u001b[39m\u001b[39mpageSize\u001b[39m\u001b[39m'\u001b[39m])\n\u001b[1;32m     <a href='vscode-notebook-cell:/Users/i31145/Desktop/misc/dash-stubhub/stubhubAPI/test.ipynb#W1sZmlsZQ%3D%3D?line=28'>29</a>\u001b[0m events \u001b[39m=\u001b[39m response[\u001b[39m'\u001b[39m\u001b[39mitems\u001b[39m\u001b[39m'\u001b[39m]\n\u001b[0;32m---> <a href='vscode-notebook-cell:/Users/i31145/Desktop/misc/dash-stubhub/stubhubAPI/test.ipynb#W1sZmlsZQ%3D%3D?line=29'>30</a>\u001b[0m events[\u001b[39m'\u001b[39m\u001b[39mleague\u001b[39m\u001b[39m'\u001b[39m] \u001b[39m=\u001b[39m league\n\u001b[1;32m     <a href='vscode-notebook-cell:/Users/i31145/Desktop/misc/dash-stubhub/stubhubAPI/test.ipynb#W1sZmlsZQ%3D%3D?line=30'>31</a>\u001b[0m events[\u001b[39m'\u001b[39m\u001b[39msource\u001b[39m\u001b[39m'\u001b[39m] \u001b[39m=\u001b[39m \u001b[39m'\u001b[39m\u001b[39mstubhub\u001b[39m\u001b[39m'\u001b[39m\n\u001b[1;32m     <a href='vscode-notebook-cell:/Users/i31145/Desktop/misc/dash-stubhub/stubhubAPI/test.ipynb#W1sZmlsZQ%3D%3D?line=31'>32</a>\u001b[0m event_dicts \u001b[39m=\u001b[39m []\n",
      "\u001b[0;31mTypeError\u001b[0m: list indices must be integers or slices, not str"
     ]
    }
   ],
   "source": [
    "evs = get_events('NFL')"
   ]
  },
  {
   "cell_type": "code",
   "execution_count": 34,
   "metadata": {},
   "outputs": [
    {
     "data": {
      "text/plain": [
       "{'eventId': 150020859,\n",
       " 'name': 'Washington Commanders at Detroit Lions',\n",
       " 'url': '/detroit-lions-detroit-tickets-9-18-2022/event/105255466/',\n",
       " 'dayOfWeek': 'Sun',\n",
       " 'formattedDate': 'Sep 18',\n",
       " 'formattedTime': '1:00 PM',\n",
       " 'isTbd': False,\n",
       " 'venueName': 'Ford Field',\n",
       " 'formattedVenueLocation': 'Detroit, MI, USA',\n",
       " 'countryCode': 'US',\n",
       " 'formattedMinPrice': '$39',\n",
       " 'userDistanceFromVenue': 711630.744915106,\n",
       " 'formattedDistanceInMiles': '',\n",
       " 'formattedRescheduledFromDate': '',\n",
       " 'eventCountdownMessage': 'Next weekend',\n",
       " 'hasActiveListings': True,\n",
       " 'fastSellingEventMessage': {'message': 'This event is selling fast',\n",
       "  'qualifier': 'for NFL on our site',\n",
       "  'disclaimer': 'This event is in the top 10% of events in NFL when ranked based on the rate of successful sales per day over the past 7 days on our site',\n",
       "  'hasValue': True,\n",
       "  'featureTrackingKey': '5e1b3d03-c118-465f-b9eb-7e7af50e9289'}}"
      ]
     },
     "execution_count": 34,
     "metadata": {},
     "output_type": "execute_result"
    }
   ],
   "source": [
    "evs[0]"
   ]
  },
  {
   "cell_type": "code",
   "execution_count": null,
   "metadata": {},
   "outputs": [],
   "source": [
    "event_path = '/detroit-lions-detroit-tickets-9-18-2022/event/105255466/'\n",
    "url = f\"https://www.stubhub.com/event/105255466\"\n",
    "response = requests.request(\"POST\", url)\n",
    "response = requests.request(\"POST\", response.url)\n",
    "response.text\n",
    "\n",
    "    \n"
   ]
  },
  {
   "cell_type": "code",
   "execution_count": 96,
   "metadata": {},
   "outputs": [],
   "source": [
    "def get_listings(eventid):\n",
    "    '''\n",
    "    Get all event listings on stubhub.\n",
    "    '''\n",
    "    url = f\"https://www.stubhub.com/event/{eventid}\"\n",
    "    url = requests.request(\"POST\", url,allow_redirects=True).url\n",
    "    response = requests.request(\"POST\", url).json()\n",
    "\n",
    "    querystring = {\"CurrentPage\":\"1\"}\n",
    "    total_pages = math.ceil((response['TotalCount'] - 2*response['PageSize'])/response['PageSize'])\n",
    "    items = response['Items']\n",
    "    item_dicts = []\n",
    "    with tqdm(total=total_pages) as pbar:\n",
    "        while response['ItemsRemaining'] > 0:\n",
    "            item_dicts.append(items)\n",
    "\n",
    "            querystring['CurrentPage'] = int(querystring['CurrentPage']) + 1\n",
    "            response = requests.request(\"POST\", url, params=querystring).json()\n",
    "            items = response['Items']\n",
    "            pbar.update(1)\n",
    "            \n",
    "        # append last page\n",
    "        item_dicts.append(items)\n",
    "\n",
    "    return list(itertools.chain.from_iterable(item_dicts))"
   ]
  },
  {
   "cell_type": "code",
   "execution_count": 97,
   "metadata": {},
   "outputs": [
    {
     "name": "stderr",
     "output_type": "stream",
     "text": [
      "13it [00:06,  1.97it/s]                        \n"
     ]
    }
   ],
   "source": [
    "listings = get_listings(105255466)"
   ]
  },
  {
   "cell_type": "code",
   "execution_count": 98,
   "metadata": {},
   "outputs": [
    {
     "data": {
      "text/plain": [
       "464"
      ]
     },
     "execution_count": 98,
     "metadata": {},
     "output_type": "execute_result"
    }
   ],
   "source": [
    "len(listings)"
   ]
  },
  {
   "cell_type": "code",
   "execution_count": 99,
   "metadata": {},
   "outputs": [
    {
     "data": {
      "text/plain": [
       "464"
      ]
     },
     "execution_count": 99,
     "metadata": {},
     "output_type": "execute_result"
    }
   ],
   "source": [
    "ids = [a['Id'] for a in listings]\n",
    "len(ids)"
   ]
  },
  {
   "cell_type": "code",
   "execution_count": 101,
   "metadata": {},
   "outputs": [
    {
     "data": {
      "text/plain": [
       "413"
      ]
     },
     "execution_count": 101,
     "metadata": {},
     "output_type": "execute_result"
    }
   ],
   "source": [
    "len(set(ids))"
   ]
  },
  {
   "cell_type": "code",
   "execution_count": 72,
   "metadata": {},
   "outputs": [],
   "source": [
    "import pandas as pd "
   ]
  },
  {
   "cell_type": "code",
   "execution_count": 79,
   "metadata": {},
   "outputs": [],
   "source": [
    "pd.DataFrame(listings).to_csv('test.tsv',sep='\\t')"
   ]
  },
  {
   "cell_type": "code",
   "execution_count": null,
   "metadata": {},
   "outputs": [],
   "source": []
  }
 ],
 "metadata": {
  "kernelspec": {
   "display_name": "Python 3.9.12 64-bit ('base')",
   "language": "python",
   "name": "python3"
  },
  "language_info": {
   "codemirror_mode": {
    "name": "ipython",
    "version": 3
   },
   "file_extension": ".py",
   "mimetype": "text/x-python",
   "name": "python",
   "nbconvert_exporter": "python",
   "pygments_lexer": "ipython3",
   "version": "3.9.12"
  },
  "orig_nbformat": 4,
  "vscode": {
   "interpreter": {
    "hash": "c8c1f90896f7892f340f3666737616014aa515454eac179f7547bb13254c304b"
   }
  }
 },
 "nbformat": 4,
 "nbformat_minor": 2
}
