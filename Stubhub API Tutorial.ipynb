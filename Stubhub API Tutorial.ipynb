{
 "cells": [
  {
   "cell_type": "markdown",
   "metadata": {
    "extensions": {
     "jupyter_dashboards": {
      "version": 1,
      "views": {
       "grid_default": {
        "col": 0,
        "height": 4,
        "hidden": false,
        "row": 0,
        "width": 12
       },
       "report_default": {
        "hidden": false
       }
      }
     }
    }
   },
   "source": [
    "# Intro\n",
    "\n",
    "This is a tutorial on using my Python wrapper for the listing scraper api API which enbales users to download pricing information from major ticket exchanges."
   ]
  },
  {
   "cell_type": "code",
   "execution_count": 1,
   "metadata": {
    "extensions": {
     "jupyter_dashboards": {
      "version": 1,
      "views": {
       "grid_default": {
        "hidden": true
       },
       "report_default": {
        "hidden": true
       }
      }
     }
    }
   },
   "outputs": [
    {
     "data": {
      "text/plain": [
       "ThemeRegistry.enable('dark')"
      ]
     },
     "execution_count": 1,
     "metadata": {},
     "output_type": "execute_result"
    }
   ],
   "source": [
    "from listing_scraper import st\n",
    "\n",
    "import pandas as pd\n",
    "import numpy as np\n",
    "import altair as al\n",
    "al.themes.enable('dark') # set dark theme\n"
   ]
  },
  {
   "cell_type": "markdown",
   "metadata": {
    "extensions": {
     "jupyter_dashboards": {
      "version": 1,
      "views": {
       "grid_default": {
        "col": 0,
        "height": 9,
        "hidden": false,
        "row": 8,
        "width": 12
       },
       "report_default": {
        "hidden": false
       }
      }
     }
    }
   },
   "source": [
    "# Single event\n",
    "To download listings for a single event use `get_listings` function which requires `eventid`. Lets get listings for the Nets at Lakers game on Novermber 13th 2022. You can find the event id in the event url on the stubhub website. "
   ]
  },
  {
   "cell_type": "code",
   "execution_count": 2,
   "metadata": {
    "extensions": {
     "jupyter_dashboards": {
      "version": 1,
      "views": {
       "grid_default": {
        "col": 0,
        "height": 9,
        "hidden": false,
        "row": 17,
        "width": 4
       },
       "report_default": {
        "hidden": false
       }
      }
     }
    }
   },
   "outputs": [
    {
     "name": "stderr",
     "output_type": "stream",
     "text": [
      "                                                                              \r"
     ]
    },
    {
     "data": {
      "text/plain": [
       "{'RatingMessage': None,\n",
       " 'RatingValue': 0.0,\n",
       " 'Id': 5585903857,\n",
       " 'EventId': 150339062,\n",
       " 'CssPostFix': 'blue',\n",
       " 'TraderType': None,\n",
       " 'Section': '321',\n",
       " 'SectionId': 1132944,\n",
       " 'SectionMapName': '',\n",
       " 'RowMapName': '$r',\n",
       " 'Row': '9',\n",
       " 'Price': '$88',\n",
       " 'PriceWithFees': '',\n",
       " 'RawPrice': 88.2,\n",
       " 'QuantityRange': '2',\n",
       " 'IsAlreadySold': False,\n",
       " 'IsAlreadySoldTicketClass': None,\n",
       " 'LastInSectionString': None,\n",
       " 'LastInSectionDescriptionString': None,\n",
       " 'AboutToSellOut': None,\n",
       " 'AboutToSellOutExplanation': None,\n",
       " 'NumberOfTicketsString': None,\n",
       " 'AdmitXTicketsString': None,\n",
       " 'TicketsLeftInListingMessage': None,\n",
       " 'ShowNumberOfTicketsString': False,\n",
       " 'LastTicketsInSectionMessage': {'Message': None,\n",
       "  'Qualifier': None,\n",
       "  'Disclaimer': None,\n",
       "  'HasValue': False,\n",
       "  'FeatureTrackingKey': None},\n",
       " 'NumberOfTicketsDisplayed': None,\n",
       " 'WillBeAnimated': True,\n",
       " 'LocationRank': 0.0,\n",
       " 'ListingRank': 0.0,\n",
       " 'PriceRank': 0.0,\n",
       " 'SectionColor': None,\n",
       " 'HasBestValue': False,\n",
       " 'IsPromotedListing': False,\n",
       " 'SwapMapInTile': False,\n",
       " 'ShowStandOrSitFreely': None,\n",
       " 'PreAllocatedSeats': None,\n",
       " 'PriceBucketColour': '#a3d165',\n",
       " 'PriceBucketColourClass': None,\n",
       " 'GeneralAdmissionExplanation': None,\n",
       " 'IsGeneralAdmission': False,\n",
       " 'FaceValueText': None,\n",
       " 'MaxQuantity': 2,\n",
       " 'SourceId': None,\n",
       " 'AvailableQuantities': [2],\n",
       " 'TicketTypeNotes': '',\n",
       " 'TicketTypeNotesAndListingNotesSeparator': '<br />',\n",
       " 'TicketClass': 954,\n",
       " 'TicketClassName': 'Upper Level',\n",
       " 'BuyUrl': '/secure/buy/Initialise?ListingID=5585903857&EventID=150339062&CategoryId=5973&Quantity=2',\n",
       " 'PackageTitle': None,\n",
       " 'Package': None,\n",
       " 'Seats': None,\n",
       " 'IsRationalizedListing': True,\n",
       " 'ShowInstantDownloadBadge': False,\n",
       " 'RowId': 541467,\n",
       " 'IsUsersListing': False,\n",
       " 'TicketReservationContent': None,\n",
       " 'IsCheapestInSection': None,\n",
       " 'IsCheapestInTicketClass': False,\n",
       " 'IsBestValueInTicketClass': False,\n",
       " 'ShowStandingTogetherBadge': False,\n",
       " 'ShowReservedSeatsBadge': False,\n",
       " 'ShowPeopleViewed': False,\n",
       " 'PeopleViewedMessage': None,\n",
       " 'IsBestDealInSection': False,\n",
       " 'ShowLastTicketsAtThisPriceMessage': False,\n",
       " 'IsRecommendedByUs': False,\n",
       " 'SvgMapPngUrl': 'https://img.vggcdn.net/img/svgpng4/349165/1132944.png',\n",
       " 'SvgMapPngTcFallbackUrl': 'https://img.vggcdn.net/img/svgpng4/349165/tc_954.png',\n",
       " 'HottestTicketMessage': None,\n",
       " 'PeopleViewingMessage': None,\n",
       " 'IsSellingFast': False,\n",
       " 'ShowExpressHomeDeliveryBadge': False,\n",
       " 'IsDiscounted': False,\n",
       " 'WillKickUser': False,\n",
       " 'TicketTypeId': 10,\n",
       " 'TicketTypesWithIcons': None,\n",
       " 'TicketTypeForPageEvent': None,\n",
       " 'ShowClickAndDownloadMessage': None,\n",
       " 'XOtherInterestedInBadgeText': None,\n",
       " 'XOthersInterestedInTicketsMessage': None,\n",
       " 'ListingNoteSectionTitle': None,\n",
       " 'IsReservedListing': False,\n",
       " 'NowAtPrice': None,\n",
       " 'othersViewingTheseTicketsMessage': None,\n",
       " 'CountryCode': None,\n",
       " 'HumanFilterIds': None,\n",
       " 'RestrictionListingNotes': None,\n",
       " 'RecommendReason': None,\n",
       " 'IsCheapest': False,\n",
       " 'RecentlyAddedString': None,\n",
       " 'RecentlySoldTicketCountString': None,\n",
       " 'SeatInfo': None,\n",
       " 'HasBadListingNotes': False,\n",
       " 'CanBeCompared': False,\n",
       " 'LocationRanking': 0.0,\n",
       " 'LocationRankingMessage': None,\n",
       " 'AlternativeListingMessage': None,\n",
       " 'ListingNotes': [{'ListingNoteId': 10,\n",
       "   'ListingNoteContentId': 1036546,\n",
       "   'FormattedListingNoteContent': 'Aisle seat',\n",
       "   'ListingNoteTypeId': 3,\n",
       "   'ShowToBuyer': True,\n",
       "   'HideInMock': False,\n",
       "   'FormattedListingNoteQualifier': None,\n",
       "   'ListingNoteDescriptionContentId': 1277346,\n",
       "   'FormattedListingNoteDescription': 'Aisle seats mean quick and easy access to your seats, as these are close to the walkway.',\n",
       "   'IconOverride': None},\n",
       "  {'ListingNoteId': -1,\n",
       "   'ListingNoteContentId': 1523411,\n",
       "   'FormattedListingNoteContent': 'Unrestricted view.',\n",
       "   'ListingNoteTypeId': 3,\n",
       "   'ShowToBuyer': True,\n",
       "   'HideInMock': False,\n",
       "   'FormattedListingNoteQualifier': None,\n",
       "   'ListingNoteDescriptionContentId': 1319276,\n",
       "   'FormattedListingNoteDescription': \"You'll have a clear view of the show.\",\n",
       "   'IconOverride': None}],\n",
       " 'PreRenderedTicketTypeNotesAndListingNotes': [{'ListingNoteId': 10,\n",
       "   'ListingNoteContentId': 1036546,\n",
       "   'FormattedListingNoteContent': 'Aisle seat',\n",
       "   'ListingNoteTypeId': 3,\n",
       "   'ShowToBuyer': True,\n",
       "   'HideInMock': False,\n",
       "   'FormattedListingNoteQualifier': None,\n",
       "   'ListingNoteDescriptionContentId': 1277346,\n",
       "   'FormattedListingNoteDescription': 'Aisle seats mean quick and easy access to your seats, as these are close to the walkway.',\n",
       "   'IconOverride': None},\n",
       "  {'ListingNoteId': -1,\n",
       "   'ListingNoteContentId': 1523411,\n",
       "   'FormattedListingNoteContent': 'Unrestricted view.',\n",
       "   'ListingNoteTypeId': 3,\n",
       "   'ShowToBuyer': True,\n",
       "   'HideInMock': False,\n",
       "   'FormattedListingNoteQualifier': None,\n",
       "   'ListingNoteDescriptionContentId': 1319276,\n",
       "   'FormattedListingNoteDescription': \"You'll have a clear view of the show.\",\n",
       "   'IconOverride': None}],\n",
       " 'MostPopularSectionDescription': None,\n",
       " 'ViewFromSectionUrl': None,\n",
       " 'ViewFromSeatUrl': None,\n",
       " 'ViewFromSectionDisclaimer': None,\n",
       " 'RemoveAnimation': False,\n",
       " 'DistinctPriceTicketContent': None,\n",
       " 'MaySoonChangePriceMessage': None,\n",
       " 'CheapestInSectionMessage': None,\n",
       " 'SectionSellingFastMessage': None,\n",
       " 'SeasonalDealMessage': None,\n",
       " 'SeasonalDealClass': None,\n",
       " 'SeasonalDealExplanation': None,\n",
       " 'MonthlyDealMessage': None,\n",
       " 'MonthlyDealDescription': None,\n",
       " 'SellerIsNearbyMessage': None,\n",
       " 'SoldXTimeAgoSiteMessage': {'Message': 'Sold',\n",
       "  'Qualifier': '2 hours ago',\n",
       "  'Disclaimer': None,\n",
       "  'HasValue': True,\n",
       "  'FeatureTrackingKey': '8fce4fde-33bb-4ed7-b007-21ffd58fb113'},\n",
       " 'RowContent': 'Row',\n",
       " 'XPercentageOfPeopleBoughtThisSection': None,\n",
       " 'XPercentageOfPeopleBoughtThisSectionExplanation': None,\n",
       " 'EmailDeliveryMessage': None,\n",
       " 'ExpiresMessage': None,\n",
       " 'ExpiresMessageDisclaimer': None,\n",
       " 'AlternativeOffer': None,\n",
       " 'SectionRecentlySoldCount': 0,\n",
       " 'ShowSeatedTogetherBulletAsChairs': False,\n",
       " 'IsSeatedTogether': True,\n",
       " 'PipelineEntryMessage': None,\n",
       " 'GoldenListingPowerUp': False,\n",
       " 'StarDecorationPowerUp': False,\n",
       " 'DisplayPrice': 88.0,\n",
       " 'IsLocked': False,\n",
       " 'LockedTimeSeconds': 0,\n",
       " 'NoParticipationLocked': False,\n",
       " 'HasSeatInformation': True,\n",
       " 'SectionLikelyToSellOutMessage': None,\n",
       " 'BestSellingInSectionMessage': None,\n",
       " 'CheapestInCityMessage': None,\n",
       " 'HasSpecialNotes': False,\n",
       " 'IsExpertChoice': False,\n",
       " 'IsStandardTicket': False,\n",
       " 'FaceValueMessage': None,\n",
       " 'SellerTrackingKey': None,\n",
       " 'FvTrackingKey': None,\n",
       " 'InvalidSeatsTrackingKey': None,\n",
       " 'TraderIconMessage': {'Message': None,\n",
       "  'Qualifier': None,\n",
       "  'Disclaimer': None,\n",
       "  'HasValue': False,\n",
       "  'FeatureTrackingKey': None},\n",
       " 'ConnectedSellerIconMessage': {'Message': None,\n",
       "  'Qualifier': None,\n",
       "  'Disclaimer': None,\n",
       "  'HasValue': False,\n",
       "  'FeatureTrackingKey': None},\n",
       " 'SeatDetailsIcon': {'Message': None,\n",
       "  'Qualifier': None,\n",
       "  'Disclaimer': None,\n",
       "  'HasValue': False,\n",
       "  'FeatureTrackingKey': None}}"
      ]
     },
     "execution_count": 2,
     "metadata": {},
     "output_type": "execute_result"
    }
   ],
   "source": [
    "listings = st.get_listings(150339062)\n",
    "listings[0]"
   ]
  },
  {
   "cell_type": "code",
   "execution_count": 3,
   "metadata": {
    "extensions": {
     "jupyter_dashboards": {
      "version": 1,
      "views": {
       "grid_default": {
        "col": 8,
        "height": 4,
        "hidden": false,
        "row": 4,
        "width": 4
       },
       "report_default": {
        "hidden": false
       }
      }
     }
    }
   },
   "outputs": [
    {
     "data": {
      "text/plain": [
       "1196"
      ]
     },
     "execution_count": 3,
     "metadata": {},
     "output_type": "execute_result"
    }
   ],
   "source": [
    "# Number of listings\n",
    "len(listings)"
   ]
  },
  {
   "cell_type": "markdown",
   "metadata": {
    "extensions": {
     "jupyter_dashboards": {
      "version": 1,
      "views": {
       "grid_default": {
        "col": 4,
        "height": 4,
        "hidden": false,
        "row": 17,
        "width": 4
       },
       "report_default": {
        "hidden": false
       }
      }
     }
    }
   },
   "source": [
    "`listings` is a list of dictionaries one of which you can see above. You can convert it to a dataframe and save as a csv."
   ]
  },
  {
   "cell_type": "code",
   "execution_count": 4,
   "metadata": {
    "extensions": {
     "jupyter_dashboards": {
      "version": 1,
      "views": {
       "grid_default": {
        "col": 0,
        "height": 9,
        "hidden": false,
        "row": 26,
        "width": 12
       },
       "report_default": {
        "hidden": false
       }
      }
     }
    }
   },
   "outputs": [
    {
     "data": {
      "text/html": [
       "<div>\n",
       "<style scoped>\n",
       "    .dataframe tbody tr th:only-of-type {\n",
       "        vertical-align: middle;\n",
       "    }\n",
       "\n",
       "    .dataframe tbody tr th {\n",
       "        vertical-align: top;\n",
       "    }\n",
       "\n",
       "    .dataframe thead th {\n",
       "        text-align: right;\n",
       "    }\n",
       "</style>\n",
       "<table border=\"1\" class=\"dataframe\">\n",
       "  <thead>\n",
       "    <tr style=\"text-align: right;\">\n",
       "      <th></th>\n",
       "      <th>RatingMessage</th>\n",
       "      <th>RatingValue</th>\n",
       "      <th>Id</th>\n",
       "      <th>EventId</th>\n",
       "      <th>CssPostFix</th>\n",
       "      <th>TraderType</th>\n",
       "      <th>Section</th>\n",
       "      <th>SectionId</th>\n",
       "      <th>SectionMapName</th>\n",
       "      <th>RowMapName</th>\n",
       "      <th>...</th>\n",
       "      <th>HasSpecialNotes</th>\n",
       "      <th>IsExpertChoice</th>\n",
       "      <th>IsStandardTicket</th>\n",
       "      <th>FaceValueMessage</th>\n",
       "      <th>SellerTrackingKey</th>\n",
       "      <th>FvTrackingKey</th>\n",
       "      <th>InvalidSeatsTrackingKey</th>\n",
       "      <th>TraderIconMessage</th>\n",
       "      <th>ConnectedSellerIconMessage</th>\n",
       "      <th>SeatDetailsIcon</th>\n",
       "    </tr>\n",
       "  </thead>\n",
       "  <tbody>\n",
       "    <tr>\n",
       "      <th>0</th>\n",
       "      <td>None</td>\n",
       "      <td>0.0</td>\n",
       "      <td>5585903857</td>\n",
       "      <td>150339062</td>\n",
       "      <td>blue</td>\n",
       "      <td>None</td>\n",
       "      <td>321</td>\n",
       "      <td>1132944.0</td>\n",
       "      <td></td>\n",
       "      <td>$r</td>\n",
       "      <td>...</td>\n",
       "      <td>False</td>\n",
       "      <td>False</td>\n",
       "      <td>False</td>\n",
       "      <td>None</td>\n",
       "      <td>None</td>\n",
       "      <td>None</td>\n",
       "      <td>None</td>\n",
       "      <td>{'Message': None, 'Qualifier': None, 'Disclaim...</td>\n",
       "      <td>{'Message': None, 'Qualifier': None, 'Disclaim...</td>\n",
       "      <td>{'Message': None, 'Qualifier': None, 'Disclaim...</td>\n",
       "    </tr>\n",
       "    <tr>\n",
       "      <th>1</th>\n",
       "      <td>None</td>\n",
       "      <td>0.0</td>\n",
       "      <td>5625874292</td>\n",
       "      <td>150339062</td>\n",
       "      <td></td>\n",
       "      <td>None</td>\n",
       "      <td>LOT C</td>\n",
       "      <td>NaN</td>\n",
       "      <td></td>\n",
       "      <td>$r</td>\n",
       "      <td>...</td>\n",
       "      <td>True</td>\n",
       "      <td>False</td>\n",
       "      <td>False</td>\n",
       "      <td>None</td>\n",
       "      <td>e205966f-497c-4d4f-b5f6-6be10d8e63ba</td>\n",
       "      <td>None</td>\n",
       "      <td>None</td>\n",
       "      <td>{'Message': None, 'Qualifier': None, 'Disclaim...</td>\n",
       "      <td>{'Message': None, 'Qualifier': None, 'Disclaim...</td>\n",
       "      <td>{'Message': None, 'Qualifier': None, 'Disclaim...</td>\n",
       "    </tr>\n",
       "    <tr>\n",
       "      <th>2</th>\n",
       "      <td>None</td>\n",
       "      <td>0.0</td>\n",
       "      <td>5575812063</td>\n",
       "      <td>150339062</td>\n",
       "      <td></td>\n",
       "      <td>None</td>\n",
       "      <td>PARKINGING</td>\n",
       "      <td>NaN</td>\n",
       "      <td></td>\n",
       "      <td>$r</td>\n",
       "      <td>...</td>\n",
       "      <td>True</td>\n",
       "      <td>False</td>\n",
       "      <td>False</td>\n",
       "      <td>None</td>\n",
       "      <td>e205966f-497c-4d4f-b5f6-6be10d8e63ba</td>\n",
       "      <td>None</td>\n",
       "      <td>None</td>\n",
       "      <td>{'Message': None, 'Qualifier': None, 'Disclaim...</td>\n",
       "      <td>{'Message': None, 'Qualifier': None, 'Disclaim...</td>\n",
       "      <td>{'Message': None, 'Qualifier': None, 'Disclaim...</td>\n",
       "    </tr>\n",
       "    <tr>\n",
       "      <th>3</th>\n",
       "      <td>None</td>\n",
       "      <td>0.0</td>\n",
       "      <td>5583031600</td>\n",
       "      <td>150339062</td>\n",
       "      <td></td>\n",
       "      <td>None</td>\n",
       "      <td>PARKING</td>\n",
       "      <td>NaN</td>\n",
       "      <td></td>\n",
       "      <td>$r</td>\n",
       "      <td>...</td>\n",
       "      <td>True</td>\n",
       "      <td>False</td>\n",
       "      <td>False</td>\n",
       "      <td>None</td>\n",
       "      <td>e205966f-497c-4d4f-b5f6-6be10d8e63ba</td>\n",
       "      <td>None</td>\n",
       "      <td>None</td>\n",
       "      <td>{'Message': None, 'Qualifier': None, 'Disclaim...</td>\n",
       "      <td>{'Message': None, 'Qualifier': None, 'Disclaim...</td>\n",
       "      <td>{'Message': None, 'Qualifier': None, 'Disclaim...</td>\n",
       "    </tr>\n",
       "    <tr>\n",
       "      <th>4</th>\n",
       "      <td>None</td>\n",
       "      <td>0.0</td>\n",
       "      <td>5597298927</td>\n",
       "      <td>150339062</td>\n",
       "      <td>blue</td>\n",
       "      <td>None</td>\n",
       "      <td>332</td>\n",
       "      <td>1132955.0</td>\n",
       "      <td>s332</td>\n",
       "      <td>$r</td>\n",
       "      <td>...</td>\n",
       "      <td>True</td>\n",
       "      <td>False</td>\n",
       "      <td>False</td>\n",
       "      <td>None</td>\n",
       "      <td>None</td>\n",
       "      <td>None</td>\n",
       "      <td>None</td>\n",
       "      <td>{'Message': None, 'Qualifier': None, 'Disclaim...</td>\n",
       "      <td>{'Message': None, 'Qualifier': None, 'Disclaim...</td>\n",
       "      <td>{'Message': None, 'Qualifier': None, 'Disclaim...</td>\n",
       "    </tr>\n",
       "  </tbody>\n",
       "</table>\n",
       "<p>5 rows × 148 columns</p>\n",
       "</div>"
      ],
      "text/plain": [
       "  RatingMessage  RatingValue          Id    EventId CssPostFix TraderType  \\\n",
       "0          None          0.0  5585903857  150339062       blue       None   \n",
       "1          None          0.0  5625874292  150339062                  None   \n",
       "2          None          0.0  5575812063  150339062                  None   \n",
       "3          None          0.0  5583031600  150339062                  None   \n",
       "4          None          0.0  5597298927  150339062       blue       None   \n",
       "\n",
       "      Section  SectionId SectionMapName RowMapName  ... HasSpecialNotes  \\\n",
       "0         321  1132944.0                        $r  ...           False   \n",
       "1       LOT C        NaN                        $r  ...            True   \n",
       "2  PARKINGING        NaN                        $r  ...            True   \n",
       "3     PARKING        NaN                        $r  ...            True   \n",
       "4         332  1132955.0           s332         $r  ...            True   \n",
       "\n",
       "  IsExpertChoice IsStandardTicket  FaceValueMessage  \\\n",
       "0          False            False              None   \n",
       "1          False            False              None   \n",
       "2          False            False              None   \n",
       "3          False            False              None   \n",
       "4          False            False              None   \n",
       "\n",
       "                      SellerTrackingKey FvTrackingKey InvalidSeatsTrackingKey  \\\n",
       "0                                  None          None                    None   \n",
       "1  e205966f-497c-4d4f-b5f6-6be10d8e63ba          None                    None   \n",
       "2  e205966f-497c-4d4f-b5f6-6be10d8e63ba          None                    None   \n",
       "3  e205966f-497c-4d4f-b5f6-6be10d8e63ba          None                    None   \n",
       "4                                  None          None                    None   \n",
       "\n",
       "                                   TraderIconMessage  \\\n",
       "0  {'Message': None, 'Qualifier': None, 'Disclaim...   \n",
       "1  {'Message': None, 'Qualifier': None, 'Disclaim...   \n",
       "2  {'Message': None, 'Qualifier': None, 'Disclaim...   \n",
       "3  {'Message': None, 'Qualifier': None, 'Disclaim...   \n",
       "4  {'Message': None, 'Qualifier': None, 'Disclaim...   \n",
       "\n",
       "                          ConnectedSellerIconMessage  \\\n",
       "0  {'Message': None, 'Qualifier': None, 'Disclaim...   \n",
       "1  {'Message': None, 'Qualifier': None, 'Disclaim...   \n",
       "2  {'Message': None, 'Qualifier': None, 'Disclaim...   \n",
       "3  {'Message': None, 'Qualifier': None, 'Disclaim...   \n",
       "4  {'Message': None, 'Qualifier': None, 'Disclaim...   \n",
       "\n",
       "                                     SeatDetailsIcon  \n",
       "0  {'Message': None, 'Qualifier': None, 'Disclaim...  \n",
       "1  {'Message': None, 'Qualifier': None, 'Disclaim...  \n",
       "2  {'Message': None, 'Qualifier': None, 'Disclaim...  \n",
       "3  {'Message': None, 'Qualifier': None, 'Disclaim...  \n",
       "4  {'Message': None, 'Qualifier': None, 'Disclaim...  \n",
       "\n",
       "[5 rows x 148 columns]"
      ]
     },
     "execution_count": 4,
     "metadata": {},
     "output_type": "execute_result"
    }
   ],
   "source": [
    "listings = pd.DataFrame(listings)\n",
    "listings.head()\n",
    "# listings.to_csv('SpursvsWarriors 2018-3-19.csv')"
   ]
  },
  {
   "cell_type": "markdown",
   "metadata": {
    "extensions": {
     "jupyter_dashboards": {
      "version": 1,
      "views": {
       "grid_default": {
        "col": 0,
        "height": 4,
        "hidden": false,
        "row": 35,
        "width": 12
       },
       "report_default": {
        "hidden": false
       }
      }
     }
    }
   },
   "source": [
    "## Multiple events\n",
    "To download listings for multiple events use `get_listings_by_event` function that takes the `events` parameter which is a pandas dataframe with event name and id in the following format."
   ]
  },
  {
   "cell_type": "markdown",
   "metadata": {
    "extensions": {
     "jupyter_dashboards": {
      "version": 1,
      "views": {
       "grid_default": {
        "col": 4,
        "height": 4,
        "hidden": false,
        "row": 21,
        "width": 4
       },
       "report_default": {
        "hidden": false
       }
      }
     }
    }
   },
   "source": [
    "Let's get listings for some of the Nets home games in 2022-2023 season."
   ]
  },
  {
   "cell_type": "code",
   "execution_count": 5,
   "metadata": {
    "extensions": {
     "jupyter_dashboards": {
      "version": 1,
      "views": {
       "grid_default": {
        "col": 0,
        "height": 4,
        "hidden": false,
        "row": 39,
        "width": 4
       },
       "report_default": {
        "hidden": false
       }
      }
     }
    }
   },
   "outputs": [
    {
     "name": "stderr",
     "output_type": "stream",
     "text": [
      "                                                                              \r"
     ]
    }
   ],
   "source": [
    "events =[150339062,150339757,150341276,150337701,150341823,150339062]\n",
    "res = st.get_listings(events)\n"
   ]
  },
  {
   "cell_type": "code",
   "execution_count": 7,
   "metadata": {},
   "outputs": [
    {
     "data": {
      "text/html": [
       "<div>\n",
       "<style scoped>\n",
       "    .dataframe tbody tr th:only-of-type {\n",
       "        vertical-align: middle;\n",
       "    }\n",
       "\n",
       "    .dataframe tbody tr th {\n",
       "        vertical-align: top;\n",
       "    }\n",
       "\n",
       "    .dataframe thead th {\n",
       "        text-align: right;\n",
       "    }\n",
       "</style>\n",
       "<table border=\"1\" class=\"dataframe\">\n",
       "  <thead>\n",
       "    <tr style=\"text-align: right;\">\n",
       "      <th></th>\n",
       "      <th>RatingMessage</th>\n",
       "      <th>RatingValue</th>\n",
       "      <th>Id</th>\n",
       "      <th>EventId</th>\n",
       "      <th>CssPostFix</th>\n",
       "      <th>TraderType</th>\n",
       "      <th>Section</th>\n",
       "      <th>SectionId</th>\n",
       "      <th>SectionMapName</th>\n",
       "      <th>RowMapName</th>\n",
       "      <th>...</th>\n",
       "      <th>HasSpecialNotes</th>\n",
       "      <th>IsExpertChoice</th>\n",
       "      <th>IsStandardTicket</th>\n",
       "      <th>FaceValueMessage</th>\n",
       "      <th>SellerTrackingKey</th>\n",
       "      <th>FvTrackingKey</th>\n",
       "      <th>InvalidSeatsTrackingKey</th>\n",
       "      <th>TraderIconMessage</th>\n",
       "      <th>ConnectedSellerIconMessage</th>\n",
       "      <th>SeatDetailsIcon</th>\n",
       "    </tr>\n",
       "  </thead>\n",
       "  <tbody>\n",
       "    <tr>\n",
       "      <th>0</th>\n",
       "      <td>None</td>\n",
       "      <td>0.0</td>\n",
       "      <td>5585903857</td>\n",
       "      <td>150339062</td>\n",
       "      <td>blue</td>\n",
       "      <td>None</td>\n",
       "      <td>321</td>\n",
       "      <td>1132944.0</td>\n",
       "      <td></td>\n",
       "      <td>$r</td>\n",
       "      <td>...</td>\n",
       "      <td>False</td>\n",
       "      <td>False</td>\n",
       "      <td>False</td>\n",
       "      <td>None</td>\n",
       "      <td>None</td>\n",
       "      <td>None</td>\n",
       "      <td>None</td>\n",
       "      <td>{'Message': None, 'Qualifier': None, 'Disclaim...</td>\n",
       "      <td>{'Message': None, 'Qualifier': None, 'Disclaim...</td>\n",
       "      <td>{'Message': None, 'Qualifier': None, 'Disclaim...</td>\n",
       "    </tr>\n",
       "    <tr>\n",
       "      <th>1</th>\n",
       "      <td>None</td>\n",
       "      <td>0.0</td>\n",
       "      <td>5625874292</td>\n",
       "      <td>150339062</td>\n",
       "      <td></td>\n",
       "      <td>None</td>\n",
       "      <td>LOT C</td>\n",
       "      <td>NaN</td>\n",
       "      <td></td>\n",
       "      <td>$r</td>\n",
       "      <td>...</td>\n",
       "      <td>True</td>\n",
       "      <td>False</td>\n",
       "      <td>False</td>\n",
       "      <td>None</td>\n",
       "      <td>e205966f-497c-4d4f-b5f6-6be10d8e63ba</td>\n",
       "      <td>None</td>\n",
       "      <td>None</td>\n",
       "      <td>{'Message': None, 'Qualifier': None, 'Disclaim...</td>\n",
       "      <td>{'Message': None, 'Qualifier': None, 'Disclaim...</td>\n",
       "      <td>{'Message': None, 'Qualifier': None, 'Disclaim...</td>\n",
       "    </tr>\n",
       "    <tr>\n",
       "      <th>2</th>\n",
       "      <td>None</td>\n",
       "      <td>0.0</td>\n",
       "      <td>5585358384</td>\n",
       "      <td>150339062</td>\n",
       "      <td>blue2</td>\n",
       "      <td>None</td>\n",
       "      <td>PR02</td>\n",
       "      <td>1504155.0</td>\n",
       "      <td></td>\n",
       "      <td>$r</td>\n",
       "      <td>...</td>\n",
       "      <td>False</td>\n",
       "      <td>False</td>\n",
       "      <td>False</td>\n",
       "      <td>None</td>\n",
       "      <td>None</td>\n",
       "      <td>None</td>\n",
       "      <td>None</td>\n",
       "      <td>{'Message': None, 'Qualifier': None, 'Disclaim...</td>\n",
       "      <td>{'Message': None, 'Qualifier': None, 'Disclaim...</td>\n",
       "      <td>{'Message': None, 'Qualifier': None, 'Disclaim...</td>\n",
       "    </tr>\n",
       "    <tr>\n",
       "      <th>3</th>\n",
       "      <td>None</td>\n",
       "      <td>0.0</td>\n",
       "      <td>5575812063</td>\n",
       "      <td>150339062</td>\n",
       "      <td></td>\n",
       "      <td>None</td>\n",
       "      <td>PARKINGING</td>\n",
       "      <td>NaN</td>\n",
       "      <td></td>\n",
       "      <td>$r</td>\n",
       "      <td>...</td>\n",
       "      <td>True</td>\n",
       "      <td>False</td>\n",
       "      <td>False</td>\n",
       "      <td>None</td>\n",
       "      <td>e205966f-497c-4d4f-b5f6-6be10d8e63ba</td>\n",
       "      <td>None</td>\n",
       "      <td>None</td>\n",
       "      <td>{'Message': None, 'Qualifier': None, 'Disclaim...</td>\n",
       "      <td>{'Message': None, 'Qualifier': None, 'Disclaim...</td>\n",
       "      <td>{'Message': None, 'Qualifier': None, 'Disclaim...</td>\n",
       "    </tr>\n",
       "    <tr>\n",
       "      <th>4</th>\n",
       "      <td>None</td>\n",
       "      <td>0.0</td>\n",
       "      <td>5583031600</td>\n",
       "      <td>150339062</td>\n",
       "      <td></td>\n",
       "      <td>None</td>\n",
       "      <td>PARKING</td>\n",
       "      <td>NaN</td>\n",
       "      <td></td>\n",
       "      <td>$r</td>\n",
       "      <td>...</td>\n",
       "      <td>True</td>\n",
       "      <td>False</td>\n",
       "      <td>False</td>\n",
       "      <td>None</td>\n",
       "      <td>e205966f-497c-4d4f-b5f6-6be10d8e63ba</td>\n",
       "      <td>None</td>\n",
       "      <td>None</td>\n",
       "      <td>{'Message': None, 'Qualifier': None, 'Disclaim...</td>\n",
       "      <td>{'Message': None, 'Qualifier': None, 'Disclaim...</td>\n",
       "      <td>{'Message': None, 'Qualifier': None, 'Disclaim...</td>\n",
       "    </tr>\n",
       "  </tbody>\n",
       "</table>\n",
       "<p>5 rows × 148 columns</p>\n",
       "</div>"
      ],
      "text/plain": [
       "  RatingMessage  RatingValue          Id    EventId CssPostFix TraderType  \\\n",
       "0          None          0.0  5585903857  150339062       blue       None   \n",
       "1          None          0.0  5625874292  150339062                  None   \n",
       "2          None          0.0  5585358384  150339062      blue2       None   \n",
       "3          None          0.0  5575812063  150339062                  None   \n",
       "4          None          0.0  5583031600  150339062                  None   \n",
       "\n",
       "      Section  SectionId SectionMapName RowMapName  ... HasSpecialNotes  \\\n",
       "0         321  1132944.0                        $r  ...           False   \n",
       "1       LOT C        NaN                        $r  ...            True   \n",
       "2        PR02  1504155.0                        $r  ...           False   \n",
       "3  PARKINGING        NaN                        $r  ...            True   \n",
       "4     PARKING        NaN                        $r  ...            True   \n",
       "\n",
       "  IsExpertChoice IsStandardTicket  FaceValueMessage  \\\n",
       "0          False            False              None   \n",
       "1          False            False              None   \n",
       "2          False            False              None   \n",
       "3          False            False              None   \n",
       "4          False            False              None   \n",
       "\n",
       "                      SellerTrackingKey FvTrackingKey InvalidSeatsTrackingKey  \\\n",
       "0                                  None          None                    None   \n",
       "1  e205966f-497c-4d4f-b5f6-6be10d8e63ba          None                    None   \n",
       "2                                  None          None                    None   \n",
       "3  e205966f-497c-4d4f-b5f6-6be10d8e63ba          None                    None   \n",
       "4  e205966f-497c-4d4f-b5f6-6be10d8e63ba          None                    None   \n",
       "\n",
       "                                   TraderIconMessage  \\\n",
       "0  {'Message': None, 'Qualifier': None, 'Disclaim...   \n",
       "1  {'Message': None, 'Qualifier': None, 'Disclaim...   \n",
       "2  {'Message': None, 'Qualifier': None, 'Disclaim...   \n",
       "3  {'Message': None, 'Qualifier': None, 'Disclaim...   \n",
       "4  {'Message': None, 'Qualifier': None, 'Disclaim...   \n",
       "\n",
       "                          ConnectedSellerIconMessage  \\\n",
       "0  {'Message': None, 'Qualifier': None, 'Disclaim...   \n",
       "1  {'Message': None, 'Qualifier': None, 'Disclaim...   \n",
       "2  {'Message': None, 'Qualifier': None, 'Disclaim...   \n",
       "3  {'Message': None, 'Qualifier': None, 'Disclaim...   \n",
       "4  {'Message': None, 'Qualifier': None, 'Disclaim...   \n",
       "\n",
       "                                     SeatDetailsIcon  \n",
       "0  {'Message': None, 'Qualifier': None, 'Disclaim...  \n",
       "1  {'Message': None, 'Qualifier': None, 'Disclaim...  \n",
       "2  {'Message': None, 'Qualifier': None, 'Disclaim...  \n",
       "3  {'Message': None, 'Qualifier': None, 'Disclaim...  \n",
       "4  {'Message': None, 'Qualifier': None, 'Disclaim...  \n",
       "\n",
       "[5 rows x 148 columns]"
      ]
     },
     "execution_count": 7,
     "metadata": {},
     "output_type": "execute_result"
    }
   ],
   "source": [
    "df = pd.concat([pd.DataFrame(r) for r in res])\n",
    "df.head()"
   ]
  },
  {
   "cell_type": "code",
   "execution_count": 2,
   "metadata": {},
   "outputs": [],
   "source": [
    "save_loc = 'example_multiple_events.json'\n",
    "# df.to_json(save_loc, orient='records')\n",
    "df = pd.read_json(save_loc)"
   ]
  },
  {
   "cell_type": "code",
   "execution_count": 4,
   "metadata": {
    "extensions": {
     "jupyter_dashboards": {
      "version": 1,
      "views": {
       "grid_default": {
        "col": 0,
        "height": 5,
        "hidden": false,
        "row": 55,
        "width": 4
       },
       "report_default": {
        "hidden": false
       }
      }
     }
    }
   },
   "outputs": [
    {
     "data": {
      "text/plain": [
       "array([150339062, 150339757, 150341276, 150337701, 150341823])"
      ]
     },
     "execution_count": 4,
     "metadata": {},
     "output_type": "execute_result"
    }
   ],
   "source": [
    "pd.unique(df['EventId'])"
   ]
  },
  {
   "cell_type": "code",
   "execution_count": 5,
   "metadata": {
    "extensions": {
     "jupyter_dashboards": {
      "version": 1,
      "views": {
       "grid_default": {
        "col": 4,
        "height": 8,
        "hidden": false,
        "row": 55,
        "width": 4
       },
       "report_default": {
        "hidden": false
       }
      }
     }
    }
   },
   "outputs": [
    {
     "data": {
      "text/html": [
       "<div>\n",
       "<style scoped>\n",
       "    .dataframe tbody tr th:only-of-type {\n",
       "        vertical-align: middle;\n",
       "    }\n",
       "\n",
       "    .dataframe tbody tr th {\n",
       "        vertical-align: top;\n",
       "    }\n",
       "\n",
       "    .dataframe thead th {\n",
       "        text-align: right;\n",
       "    }\n",
       "</style>\n",
       "<table border=\"1\" class=\"dataframe\">\n",
       "  <thead>\n",
       "    <tr style=\"text-align: right;\">\n",
       "      <th></th>\n",
       "      <th>RawPrice</th>\n",
       "    </tr>\n",
       "    <tr>\n",
       "      <th>EventId</th>\n",
       "      <th></th>\n",
       "    </tr>\n",
       "  </thead>\n",
       "  <tbody>\n",
       "    <tr>\n",
       "      <th>150337701</th>\n",
       "      <td>333.957932</td>\n",
       "    </tr>\n",
       "    <tr>\n",
       "      <th>150339062</th>\n",
       "      <td>526.352839</td>\n",
       "    </tr>\n",
       "    <tr>\n",
       "      <th>150339757</th>\n",
       "      <td>143.927185</td>\n",
       "    </tr>\n",
       "    <tr>\n",
       "      <th>150341276</th>\n",
       "      <td>242.654522</td>\n",
       "    </tr>\n",
       "    <tr>\n",
       "      <th>150341823</th>\n",
       "      <td>304.837251</td>\n",
       "    </tr>\n",
       "  </tbody>\n",
       "</table>\n",
       "</div>"
      ],
      "text/plain": [
       "             RawPrice\n",
       "EventId              \n",
       "150337701  333.957932\n",
       "150339062  526.352839\n",
       "150339757  143.927185\n",
       "150341276  242.654522\n",
       "150341823  304.837251"
      ]
     },
     "execution_count": 5,
     "metadata": {},
     "output_type": "execute_result"
    }
   ],
   "source": [
    "avg_price = pd.pivot_table(df, values='RawPrice', index=['EventId'], aggfunc=np.mean)\n",
    "avg_price"
   ]
  },
  {
   "cell_type": "code",
   "execution_count": 75,
   "metadata": {
    "extensions": {
     "jupyter_dashboards": {
      "version": 1,
      "views": {
       "grid_default": {
        "col": 0,
        "height": 9,
        "hidden": false,
        "row": 60,
        "width": 4
       },
       "report_default": {
        "hidden": false
       }
      }
     }
    }
   },
   "outputs": [
    {
     "data": {
      "text/plain": [
       "<AxesSubplot:title={'center':'Average listing price by Event'}, ylabel='EventId'>"
      ]
     },
     "execution_count": 75,
     "metadata": {},
     "output_type": "execute_result"
    },
    {
     "data": {
      "image/png": "[encoded data removed]",
      "text/plain": [
       "<Figure size 432x288 with 1 Axes>"
      ]
     },
     "metadata": {},
     "output_type": "display_data"
    }
   ],
   "source": [
    "%matplotlib inline\n",
    "from matplotlib import style\n",
    "import matplotlib.pyplot as plt\n",
    "style.use('dark_background')\n",
    "\n",
    "avg_price.plot.barh(title='Average listing price by Event')"
   ]
  },
  {
   "cell_type": "markdown",
   "metadata": {
    "extensions": {
     "jupyter_dashboards": {
      "version": 1,
      "views": {
       "grid_default": {
        "col": 4,
        "height": 4,
        "hidden": false,
        "row": 39,
        "width": 4
       },
       "report_default": {
        "hidden": false
       }
      }
     }
    }
   },
   "source": [
    "Let's also look at the number of listings."
   ]
  },
  {
   "cell_type": "code",
   "execution_count": 19,
   "metadata": {
    "extensions": {
     "jupyter_dashboards": {
      "version": 1,
      "views": {
       "grid_default": {
        "col": 4,
        "height": 8,
        "hidden": false,
        "row": 63,
        "width": 4
       },
       "report_default": {
        "hidden": false
       }
      }
     }
    }
   },
   "outputs": [
    {
     "data": {
      "text/plain": [
       "<AxesSubplot:title={'center':'Number of listings by Event'}, ylabel='EventId'>"
      ]
     },
     "execution_count": 19,
     "metadata": {},
     "output_type": "execute_result"
    },
    {
     "data": {
      "image/png": "[encoded data removed]",
      "text/plain": [
       "<Figure size 432x288 with 1 Axes>"
      ]
     },
     "metadata": {},
     "output_type": "display_data"
    }
   ],
   "source": [
    "listings_number = pd.pivot_table(df, values='Id', index=['EventId'], aggfunc=len)\n",
    "listings_number.plot.barh(title='Number of listings by Event')"
   ]
  },
  {
   "cell_type": "markdown",
   "metadata": {
    "extensions": {
     "jupyter_dashboards": {
      "version": 1,
      "views": {
       "grid_default": {
        "hidden": true
       },
       "report_default": {
        "hidden": false
       }
      }
     }
    }
   },
   "source": [
    "Below is a good visual to see how spread out the prices by event are."
   ]
  },
  {
   "cell_type": "code",
   "execution_count": 76,
   "metadata": {
    "extensions": {
     "jupyter_dashboards": {
      "version": 1,
      "views": {
       "grid_default": {
        "col": 8,
        "height": 20,
        "hidden": false,
        "row": 63,
        "width": 4
       },
       "report_default": {
        "hidden": false
       }
      }
     }
    }
   },
   "outputs": [
    {
     "data": {
      "text/plain": [
       "array([[<AxesSubplot:title={'center':'150337701'}>,\n",
       "        <AxesSubplot:title={'center':'150339062'}>],\n",
       "       [<AxesSubplot:title={'center':'150339757'}>,\n",
       "        <AxesSubplot:title={'center':'150341276'}>],\n",
       "       [<AxesSubplot:title={'center':'150341823'}>, <AxesSubplot:>]],\n",
       "      dtype=object)"
      ]
     },
     "execution_count": 76,
     "metadata": {},
     "output_type": "execute_result"
    },
    {
     "data": {
      "image/png": "[encoded data removed]",
      "text/plain": [
       "<Figure size 864x720 with 6 Axes>"
      ]
     },
     "metadata": {},
     "output_type": "display_data"
    }
   ],
   "source": [
    "# Histogram of Ticket Prices by Event\n",
    "df['RawPrice'].hist(by=df['EventId'],alpha=0.8,bins=50,figsize=(12,10),color='red')\n"
   ]
  },
  {
   "cell_type": "markdown",
   "metadata": {},
   "source": [
    "## Heatmap"
   ]
  },
  {
   "cell_type": "code",
   "execution_count": 3,
   "metadata": {},
   "outputs": [],
   "source": [
    "def sort_mixed_list(lst):\n",
    "    # sort mixed list\n",
    "    ret = []\n",
    "    for i in lst:\n",
    "        try:\n",
    "            ret.append(int(i))\n",
    "        except:\n",
    "            ret.append(str(i))\n",
    "    ret = sorted(ret, key=lambda x: (isinstance(x, str), x))\n",
    "    return [str(i) for i in ret]\n",
    "\n",
    "\n",
    "df = df.loc[(df['EventId']==150339062),:] # pick single event"
   ]
  },
  {
   "cell_type": "code",
   "execution_count": 4,
   "metadata": {},
   "outputs": [
    {
     "data": {
      "text/html": [
       "<div>\n",
       "<style scoped>\n",
       "    .dataframe tbody tr th:only-of-type {\n",
       "        vertical-align: middle;\n",
       "    }\n",
       "\n",
       "    .dataframe tbody tr th {\n",
       "        vertical-align: top;\n",
       "    }\n",
       "\n",
       "    .dataframe thead th {\n",
       "        text-align: right;\n",
       "    }\n",
       "</style>\n",
       "<table border=\"1\" class=\"dataframe\">\n",
       "  <thead>\n",
       "    <tr style=\"text-align: right;\">\n",
       "      <th></th>\n",
       "      <th>Section</th>\n",
       "      <th>Row</th>\n",
       "      <th>RawPrice</th>\n",
       "      <th>QuantityRange</th>\n",
       "      <th>W_Avg_Price</th>\n",
       "    </tr>\n",
       "  </thead>\n",
       "  <tbody>\n",
       "    <tr>\n",
       "      <th>0</th>\n",
       "      <td>101</td>\n",
       "      <td>1</td>\n",
       "      <td>1972.196667</td>\n",
       "      <td>14</td>\n",
       "      <td>4.886859</td>\n",
       "    </tr>\n",
       "    <tr>\n",
       "      <th>1</th>\n",
       "      <td>101</td>\n",
       "      <td>10</td>\n",
       "      <td>873.931111</td>\n",
       "      <td>38</td>\n",
       "      <td>5.877767</td>\n",
       "    </tr>\n",
       "    <tr>\n",
       "      <th>2</th>\n",
       "      <td>101</td>\n",
       "      <td>11</td>\n",
       "      <td>661.980000</td>\n",
       "      <td>4</td>\n",
       "      <td>0.468658</td>\n",
       "    </tr>\n",
       "    <tr>\n",
       "      <th>3</th>\n",
       "      <td>101</td>\n",
       "      <td>12</td>\n",
       "      <td>686.480000</td>\n",
       "      <td>232</td>\n",
       "      <td>28.188205</td>\n",
       "    </tr>\n",
       "    <tr>\n",
       "      <th>4</th>\n",
       "      <td>101</td>\n",
       "      <td>13</td>\n",
       "      <td>836.275000</td>\n",
       "      <td>18</td>\n",
       "      <td>2.664239</td>\n",
       "    </tr>\n",
       "    <tr>\n",
       "      <th>...</th>\n",
       "      <td>...</td>\n",
       "      <td>...</td>\n",
       "      <td>...</td>\n",
       "      <td>...</td>\n",
       "      <td>...</td>\n",
       "    </tr>\n",
       "    <tr>\n",
       "      <th>584</th>\n",
       "      <td>C42</td>\n",
       "      <td></td>\n",
       "      <td>230.300000</td>\n",
       "      <td>14</td>\n",
       "      <td>0.570655</td>\n",
       "    </tr>\n",
       "    <tr>\n",
       "      <th>585</th>\n",
       "      <td>C43</td>\n",
       "      <td></td>\n",
       "      <td>230.780000</td>\n",
       "      <td>24</td>\n",
       "      <td>0.980304</td>\n",
       "    </tr>\n",
       "    <tr>\n",
       "      <th>586</th>\n",
       "      <td>CRT</td>\n",
       "      <td>1</td>\n",
       "      <td>11645.546667</td>\n",
       "      <td>16</td>\n",
       "      <td>32.978539</td>\n",
       "    </tr>\n",
       "    <tr>\n",
       "      <th>587</th>\n",
       "      <td>Loge Level 104</td>\n",
       "      <td>14</td>\n",
       "      <td>445.500000</td>\n",
       "      <td>4</td>\n",
       "      <td>0.315398</td>\n",
       "    </tr>\n",
       "    <tr>\n",
       "      <th>588</th>\n",
       "      <td>Loge Level 118</td>\n",
       "      <td>14</td>\n",
       "      <td>476.100000</td>\n",
       "      <td>8</td>\n",
       "      <td>0.674124</td>\n",
       "    </tr>\n",
       "  </tbody>\n",
       "</table>\n",
       "<p>589 rows × 5 columns</p>\n",
       "</div>"
      ],
      "text/plain": [
       "            Section Row      RawPrice  QuantityRange  W_Avg_Price\n",
       "0               101   1   1972.196667             14     4.886859\n",
       "1               101  10    873.931111             38     5.877767\n",
       "2               101  11    661.980000              4     0.468658\n",
       "3               101  12    686.480000            232    28.188205\n",
       "4               101  13    836.275000             18     2.664239\n",
       "..              ...  ..           ...            ...          ...\n",
       "584             C42        230.300000             14     0.570655\n",
       "585             C43        230.780000             24     0.980304\n",
       "586             CRT   1  11645.546667             16    32.978539\n",
       "587  Loge Level 104  14    445.500000              4     0.315398\n",
       "588  Loge Level 118  14    476.100000              8     0.674124\n",
       "\n",
       "[589 rows x 5 columns]"
      ]
     },
     "execution_count": 4,
     "metadata": {},
     "output_type": "execute_result"
    }
   ],
   "source": [
    "heat_data = df[~df.Section.str.contains('PR')] \\\n",
    "        .groupby(['Section','Row']) \\\n",
    "        .agg({'RawPrice': 'mean',\n",
    "              'QuantityRange': lambda x: sum([int(a[-1]) for a in x.str.split('-')])}) \\\n",
    "        .reset_index()\n",
    "heat_data['W_Avg_Price'] = heat_data['RawPrice']*heat_data['QuantityRange']/heat_data['QuantityRange'].sum()\n",
    "heat_data"
   ]
  },
  {
   "cell_type": "code",
   "execution_count": 6,
   "metadata": {},
   "outputs": [
    {
     "data": {
      "application/vnd.vegalite.v4+json": {
       "$schema": "https://vega.github.io/schema/vega-lite/v4.17.0.json",
       "config": {
        "background": "black",
        "view": {
         "continuousHeight": 300,
         "continuousWidth": 400
        }
       },
       "data": {
        "name": "data-12a91202ae5a89c83e5013e0052d2ed3"
       },
       "datasets": {
        "data-12a91202ae5a89c83e5013e0052d2ed3": [
         {
          "QuantityRange": 14,
          "RawPrice": 1972.1966666666667,
          "Row": "1",
          "Section": "101",
          "W_Avg_Price": 4.8868589970501475
         },
         {
          "QuantityRange": 38,
          "RawPrice": 873.9311111111111,
          "Row": "10",
          "Section": "101",
          "W_Avg_Price": 5.8777667649950835
         },
         {
          "QuantityRange": 4,
          "RawPrice": 661.98,
          "Row": "11",
          "Section": "101",
          "W_Avg_Price": 0.468658407079646
         },
         {
          "QuantityRange": 232,
          "RawPrice": 686.48,
          "Row": "12",
          "Section": "101",
          "W_Avg_Price": 28.188205309734517
         },
         {
          "QuantityRange": 18,
          "RawPrice": 836.275,
          "Row": "13",
          "Section": "101",
          "W_Avg_Price": 2.664238938053097
         },
         {
          "QuantityRange": 32,
          "RawPrice": 814.214,
          "Row": "15",
          "Section": "101",
          "W_Avg_Price": 4.611477522123894
         },
         {
          "QuantityRange": 4,
          "RawPrice": 633.56,
          "Row": "16",
          "Section": "101",
          "W_Avg_Price": 0.44853805309734507
         },
         {
          "QuantityRange": 120,
          "RawPrice": 668.1876666666667,
          "Row": "17",
          "Section": "101",
          "W_Avg_Price": 14.191596460176992
         },
         {
          "QuantityRange": 4,
          "RawPrice": 660.66,
          "Row": "18W",
          "Section": "101",
          "W_Avg_Price": 0.4677238938053097
         },
         {
          "QuantityRange": 20,
          "RawPrice": 1438.1266666666668,
          "Row": "2",
          "Section": "101",
          "W_Avg_Price": 5.090713864306785
         },
         {
          "QuantityRange": 10,
          "RawPrice": 1274.48,
          "Row": "3",
          "Section": "101",
          "W_Avg_Price": 2.255716814159292
         },
         {
          "QuantityRange": 4,
          "RawPrice": 890.46,
          "Row": "4",
          "Section": "101",
          "W_Avg_Price": 0.6304141592920354
         },
         {
          "QuantityRange": 8,
          "RawPrice": 1029.48,
          "Row": "5",
          "Section": "101",
          "W_Avg_Price": 1.457670796460177
         },
         {
          "QuantityRange": 12,
          "RawPrice": 989.4,
          "Row": "6",
          "Section": "101",
          "W_Avg_Price": 2.1013805309734512
         },
         {
          "QuantityRange": 16,
          "RawPrice": 1460.31,
          "Row": "7",
          "Section": "101",
          "W_Avg_Price": 4.135391150442477
         },
         {
          "QuantityRange": 4,
          "RawPrice": 697.5,
          "Row": "8",
          "Section": "101",
          "W_Avg_Price": 0.49380530973451325
         },
         {
          "QuantityRange": 6,
          "RawPrice": 1289.83,
          "Row": "9",
          "Section": "101",
          "W_Avg_Price": 1.3697309734513274
         },
         {
          "QuantityRange": 8,
          "RawPrice": 1664.4,
          "Row": "A",
          "Section": "101",
          "W_Avg_Price": 2.3566725663716817
         },
         {
          "QuantityRange": 30,
          "RawPrice": 1307.3912500000001,
          "Row": "B",
          "Section": "101",
          "W_Avg_Price": 6.941900442477877
         },
         {
          "QuantityRange": 4,
          "RawPrice": 833.48,
          "Row": "1",
          "Section": "102",
          "W_Avg_Price": 0.5900743362831858
         },
         {
          "QuantityRange": 8,
          "RawPrice": 675,
          "Row": "10",
          "Section": "102",
          "W_Avg_Price": 0.9557522123893806
         },
         {
          "QuantityRange": 4,
          "RawPrice": 717.32,
          "Row": "13",
          "Section": "102",
          "W_Avg_Price": 0.507837168141593
         },
         {
          "QuantityRange": 16,
          "RawPrice": 737.95,
          "Row": "15",
          "Section": "102",
          "W_Avg_Price": 2.089769911504425
         },
         {
          "QuantityRange": 8,
          "RawPrice": 626.895,
          "Row": "16",
          "Section": "102",
          "W_Avg_Price": 0.8876389380530973
         },
         {
          "QuantityRange": 20,
          "RawPrice": 850.01,
          "Row": "17",
          "Section": "102",
          "W_Avg_Price": 3.0088849557522126
         },
         {
          "QuantityRange": 8,
          "RawPrice": 704.085,
          "Row": "18",
          "Section": "102",
          "W_Avg_Price": 0.9969345132743364
         },
         {
          "QuantityRange": 4,
          "RawPrice": 790.86,
          "Row": "19",
          "Section": "102",
          "W_Avg_Price": 0.5599008849557522
         },
         {
          "QuantityRange": 4,
          "RawPrice": 833.48,
          "Row": "2",
          "Section": "102",
          "W_Avg_Price": 0.5900743362831858
         },
         {
          "QuantityRange": 8,
          "RawPrice": 1651.695,
          "Row": "3",
          "Section": "102",
          "W_Avg_Price": 2.338683185840708
         },
         {
          "QuantityRange": 4,
          "RawPrice": 680.37,
          "Row": "4",
          "Section": "102",
          "W_Avg_Price": 0.48167787610619467
         },
         {
          "QuantityRange": 8,
          "RawPrice": 819.7049999999999,
          "Row": "5",
          "Section": "102",
          "W_Avg_Price": 1.1606442477876104
         },
         {
          "QuantityRange": 8,
          "RawPrice": 735.48,
          "Row": "7",
          "Section": "102",
          "W_Avg_Price": 1.041387610619469
         },
         {
          "QuantityRange": 8,
          "RawPrice": 864.575,
          "Row": "8",
          "Section": "102",
          "W_Avg_Price": 1.2241769911504425
         },
         {
          "QuantityRange": 26,
          "RawPrice": 1943.51,
          "Row": "A",
          "Section": "102",
          "W_Avg_Price": 8.943585840707964
         },
         {
          "QuantityRange": 4,
          "RawPrice": 906.98,
          "Row": "B",
          "Section": "102",
          "W_Avg_Price": 0.6421097345132744
         },
         {
          "QuantityRange": 8,
          "RawPrice": 518.7,
          "Row": "11",
          "Section": "103",
          "W_Avg_Price": 0.7344424778761063
         },
         {
          "QuantityRange": 2,
          "RawPrice": 604.73,
          "Row": "12",
          "Section": "103",
          "W_Avg_Price": 0.2140637168141593
         },
         {
          "QuantityRange": 8,
          "RawPrice": 985.88,
          "Row": "14",
          "Section": "103",
          "W_Avg_Price": 1.3959362831858406
         },
         {
          "QuantityRange": 14,
          "RawPrice": 671.175,
          "Row": "15",
          "Section": "103",
          "W_Avg_Price": 1.663088495575221
         },
         {
          "QuantityRange": 6,
          "RawPrice": 588.135,
          "Row": "16",
          "Section": "103",
          "W_Avg_Price": 0.6245681415929203
         },
         {
          "QuantityRange": 12,
          "RawPrice": 459.4,
          "Row": "18",
          "Section": "103",
          "W_Avg_Price": 0.9757168141592919
         },
         {
          "QuantityRange": 8,
          "RawPrice": 635.04,
          "Row": "19",
          "Section": "103",
          "W_Avg_Price": 0.8991716814159292
         },
         {
          "QuantityRange": 2,
          "RawPrice": 504.48,
          "Row": "5",
          "Section": "103",
          "W_Avg_Price": 0.17857699115044248
         },
         {
          "QuantityRange": 6,
          "RawPrice": 483.21500000000003,
          "Row": "6",
          "Section": "103",
          "W_Avg_Price": 0.5131486725663716
         },
         {
          "QuantityRange": 4,
          "RawPrice": 620.34,
          "Row": "8",
          "Section": "103",
          "W_Avg_Price": 0.4391787610619469
         },
         {
          "QuantityRange": 4,
          "RawPrice": 537.04,
          "Row": "",
          "Section": "104",
          "W_Avg_Price": 0.3802053097345133
         },
         {
          "QuantityRange": 4,
          "RawPrice": 408.13,
          "Row": "10",
          "Section": "104",
          "W_Avg_Price": 0.288941592920354
         },
         {
          "QuantityRange": 12,
          "RawPrice": 394.52,
          "Row": "15",
          "Section": "104",
          "W_Avg_Price": 0.8379185840707964
         },
         {
          "QuantityRange": 8,
          "RawPrice": 258.3,
          "Row": "17",
          "Section": "104",
          "W_Avg_Price": 0.3657345132743363
         },
         {
          "QuantityRange": 4,
          "RawPrice": 565.46,
          "Row": "5",
          "Section": "104",
          "W_Avg_Price": 0.40032566371681416
         },
         {
          "QuantityRange": 2,
          "RawPrice": 421.37,
          "Row": "9",
          "Section": "104",
          "W_Avg_Price": 0.1491575221238938
         },
         {
          "QuantityRange": 4,
          "RawPrice": 396.9,
          "Row": "12",
          "Section": "105",
          "W_Avg_Price": 0.28099115044247785
         },
         {
          "QuantityRange": 8,
          "RawPrice": 304.31,
          "Row": "14",
          "Section": "105",
          "W_Avg_Price": 0.43088141592920354
         },
         {
          "QuantityRange": 8,
          "RawPrice": 619.36,
          "Row": "15",
          "Section": "105",
          "W_Avg_Price": 0.8769699115044248
         },
         {
          "QuantityRange": 4,
          "RawPrice": 423.36,
          "Row": "17",
          "Section": "105",
          "W_Avg_Price": 0.2997238938053097
         },
         {
          "QuantityRange": 8,
          "RawPrice": 306,
          "Row": "18",
          "Section": "105",
          "W_Avg_Price": 0.43327433628318585
         },
         {
          "QuantityRange": 4,
          "RawPrice": 449.565,
          "Row": "4",
          "Section": "105",
          "W_Avg_Price": 0.31827610619469027
         },
         {
          "QuantityRange": 4,
          "RawPrice": 436.1,
          "Row": "6",
          "Section": "105",
          "W_Avg_Price": 0.30874336283185844
         },
         {
          "QuantityRange": 4,
          "RawPrice": 590.94,
          "Row": "9",
          "Section": "105",
          "W_Avg_Price": 0.4183646017699115
         },
         {
          "QuantityRange": 4,
          "RawPrice": 1638,
          "Row": "A",
          "Section": "105",
          "W_Avg_Price": 1.159646017699115
         },
         {
          "QuantityRange": 2,
          "RawPrice": 420.01,
          "Row": "B",
          "Section": "105",
          "W_Avg_Price": 0.14867610619469027
         },
         {
          "QuantityRange": 2,
          "RawPrice": 420.01,
          "Row": "C",
          "Section": "105",
          "W_Avg_Price": 0.14867610619469027
         },
         {
          "QuantityRange": 14,
          "RawPrice": 565.9533333333333,
          "Row": "H",
          "Section": "105",
          "W_Avg_Price": 1.4023622418879054
         },
         {
          "QuantityRange": 4,
          "RawPrice": 565.46,
          "Row": "K",
          "Section": "105",
          "W_Avg_Price": 0.40032566371681416
         },
         {
          "QuantityRange": 4,
          "RawPrice": 247.5,
          "Row": "",
          "Section": "106",
          "W_Avg_Price": 0.1752212389380531
         },
         {
          "QuantityRange": 6,
          "RawPrice": 308.7,
          "Row": "10",
          "Section": "106",
          "W_Avg_Price": 0.3278230088495575
         },
         {
          "QuantityRange": 22,
          "RawPrice": 298.54,
          "Row": "11",
          "Section": "106",
          "W_Avg_Price": 1.1624566371681415
         },
         {
          "QuantityRange": 8,
          "RawPrice": 565.46,
          "Row": "12",
          "Section": "106",
          "W_Avg_Price": 0.8006513274336283
         },
         {
          "QuantityRange": 18,
          "RawPrice": 255.98666666666668,
          "Row": "13",
          "Section": "106",
          "W_Avg_Price": 0.8155327433628319
         },
         {
          "QuantityRange": 6,
          "RawPrice": 448.64,
          "Row": "14",
          "Section": "106",
          "W_Avg_Price": 0.4764318584070797
         },
         {
          "QuantityRange": 16,
          "RawPrice": 294.1566666666667,
          "Row": "15",
          "Section": "106",
          "W_Avg_Price": 0.8330100294985252
         },
         {
          "QuantityRange": 10,
          "RawPrice": 824.355,
          "Row": "16",
          "Section": "106",
          "W_Avg_Price": 1.4590353982300883
         },
         {
          "QuantityRange": 12,
          "RawPrice": 260.755,
          "Row": "17",
          "Section": "106",
          "W_Avg_Price": 0.5538159292035398
         },
         {
          "QuantityRange": 12,
          "RawPrice": 512.085,
          "Row": "18",
          "Section": "106",
          "W_Avg_Price": 1.0876141592920354
         },
         {
          "QuantityRange": 14,
          "RawPrice": 404.45,
          "Row": "19",
          "Section": "106",
          "W_Avg_Price": 1.0021769911504426
         },
         {
          "QuantityRange": 4,
          "RawPrice": 336.4,
          "Row": "2",
          "Section": "106",
          "W_Avg_Price": 0.2381592920353982
         },
         {
          "QuantityRange": 8,
          "RawPrice": 346.29,
          "Row": "3",
          "Section": "106",
          "W_Avg_Price": 0.49032212389380536
         },
         {
          "QuantityRange": 14,
          "RawPrice": 360.95,
          "Row": "4",
          "Section": "106",
          "W_Avg_Price": 0.8943893805309735
         },
         {
          "QuantityRange": 16,
          "RawPrice": 380,
          "Row": "5",
          "Section": "106",
          "W_Avg_Price": 1.0761061946902655
         },
         {
          "QuantityRange": 4,
          "RawPrice": 323.84,
          "Row": "6",
          "Section": "106",
          "W_Avg_Price": 0.22926725663716813
         },
         {
          "QuantityRange": 4,
          "RawPrice": 424.34,
          "Row": "7",
          "Section": "106",
          "W_Avg_Price": 0.30041769911504423
         },
         {
          "QuantityRange": 14,
          "RawPrice": 294.24,
          "Row": "8",
          "Section": "106",
          "W_Avg_Price": 0.7290902654867257
         },
         {
          "QuantityRange": 8,
          "RawPrice": 269.9,
          "Row": "9",
          "Section": "106",
          "W_Avg_Price": 0.3821592920353982
         },
         {
          "QuantityRange": 6,
          "RawPrice": 1690.01,
          "Row": "A",
          "Section": "106",
          "W_Avg_Price": 1.7947008849557522
         },
         {
          "QuantityRange": 6,
          "RawPrice": 1409.24,
          "Row": "B",
          "Section": "106",
          "W_Avg_Price": 1.4965380530973453
         },
         {
          "QuantityRange": 8,
          "RawPrice": 442.94,
          "Row": "D",
          "Section": "106",
          "W_Avg_Price": 0.6271716814159292
         },
         {
          "QuantityRange": 6,
          "RawPrice": 492.42,
          "Row": "E",
          "Section": "106",
          "W_Avg_Price": 0.5229238938053097
         },
         {
          "QuantityRange": 2,
          "RawPrice": 508.99,
          "Row": "F",
          "Section": "106",
          "W_Avg_Price": 0.18017345132743362
         },
         {
          "QuantityRange": 6,
          "RawPrice": 560.18,
          "Row": "G",
          "Section": "106",
          "W_Avg_Price": 0.5948814159292035
         },
         {
          "QuantityRange": 8,
          "RawPrice": 494.9,
          "Row": "J",
          "Section": "106",
          "W_Avg_Price": 0.7007433628318583
         },
         {
          "QuantityRange": 8,
          "RawPrice": 776.16,
          "Row": "K",
          "Section": "106",
          "W_Avg_Price": 1.098987610619469
         },
         {
          "QuantityRange": 12,
          "RawPrice": 406.27,
          "Row": "L",
          "Section": "106",
          "W_Avg_Price": 0.8628743362831858
         },
         {
          "QuantityRange": 16,
          "RawPrice": 472.07666666666665,
          "Row": "M",
          "Section": "106",
          "W_Avg_Price": 1.3368542772861356
         },
         {
          "QuantityRange": 14,
          "RawPrice": 313.28666666666663,
          "Row": "10",
          "Section": "107",
          "W_Avg_Price": 0.7762855457227137
         },
         {
          "QuantityRange": 24,
          "RawPrice": 191.05499999999998,
          "Row": "11",
          "Section": "107",
          "W_Avg_Price": 0.8115610619469026
         },
         {
          "QuantityRange": 8,
          "RawPrice": 260.71000000000004,
          "Row": "12",
          "Section": "107",
          "W_Avg_Price": 0.3691469026548673
         },
         {
          "QuantityRange": 16,
          "RawPrice": 266.99,
          "Row": "13",
          "Section": "107",
          "W_Avg_Price": 0.7560778761061947
         },
         {
          "QuantityRange": 14,
          "RawPrice": 373.45,
          "Row": "14",
          "Section": "107",
          "W_Avg_Price": 0.9253628318584071
         },
         {
          "QuantityRange": 16,
          "RawPrice": 250.38,
          "Row": "15",
          "Section": "107",
          "W_Avg_Price": 0.7090407079646017
         },
         {
          "QuantityRange": 8,
          "RawPrice": 302.05,
          "Row": "16",
          "Section": "107",
          "W_Avg_Price": 0.42768141592920356
         },
         {
          "QuantityRange": 12,
          "RawPrice": 283.74,
          "Row": "17",
          "Section": "107",
          "W_Avg_Price": 0.6026336283185841
         },
         {
          "QuantityRange": 12,
          "RawPrice": 344.6,
          "Row": "18W",
          "Section": "107",
          "W_Avg_Price": 0.7318938053097347
         },
         {
          "QuantityRange": 4,
          "RawPrice": 316.61,
          "Row": "2",
          "Section": "107",
          "W_Avg_Price": 0.2241486725663717
         },
         {
          "QuantityRange": 8,
          "RawPrice": 387.98,
          "Row": "3",
          "Section": "107",
          "W_Avg_Price": 0.5493522123893806
         },
         {
          "QuantityRange": 8,
          "RawPrice": 318.98,
          "Row": "4",
          "Section": "107",
          "W_Avg_Price": 0.45165309734513276
         },
         {
          "QuantityRange": 8,
          "RawPrice": 299.38,
          "Row": "5",
          "Section": "107",
          "W_Avg_Price": 0.42390088495575223
         },
         {
          "QuantityRange": 8,
          "RawPrice": 336.4,
          "Row": "6",
          "Section": "107",
          "W_Avg_Price": 0.4763185840707964
         },
         {
          "QuantityRange": 22,
          "RawPrice": 353.84666666666664,
          "Row": "7",
          "Section": "107",
          "W_Avg_Price": 1.377810029498525
         },
         {
          "QuantityRange": 16,
          "RawPrice": 405.55499999999995,
          "Row": "8",
          "Section": "107",
          "W_Avg_Price": 1.1484743362831857
         },
         {
          "QuantityRange": 6,
          "RawPrice": 303.6,
          "Row": "9",
          "Section": "107",
          "W_Avg_Price": 0.3224070796460177
         },
         {
          "QuantityRange": 6,
          "RawPrice": 891.1249999999999,
          "Row": "A",
          "Section": "107",
          "W_Avg_Price": 0.9463274336283184
         },
         {
          "QuantityRange": 4,
          "RawPrice": 351,
          "Row": "G",
          "Section": "107",
          "W_Avg_Price": 0.24849557522123894
         },
         {
          "QuantityRange": 4,
          "RawPrice": 352.08,
          "Row": "H",
          "Section": "107",
          "W_Avg_Price": 0.24926017699115044
         },
         {
          "QuantityRange": 40,
          "RawPrice": 235.13000000000002,
          "Row": "K",
          "Section": "107",
          "W_Avg_Price": 1.664637168141593
         },
         {
          "QuantityRange": 8,
          "RawPrice": 309.685,
          "Row": "L",
          "Section": "107",
          "W_Avg_Price": 0.4384920353982301
         },
         {
          "QuantityRange": 16,
          "RawPrice": 407.09999999999997,
          "Row": "M",
          "Section": "107",
          "W_Avg_Price": 1.1528495575221238
         },
         {
          "QuantityRange": 24,
          "RawPrice": 314.364,
          "Row": "",
          "Section": "108",
          "W_Avg_Price": 1.3353515044247786
         },
         {
          "QuantityRange": 8,
          "RawPrice": 352.675,
          "Row": "10",
          "Section": "108",
          "W_Avg_Price": 0.4993628318584071
         },
         {
          "QuantityRange": 4,
          "RawPrice": 418.46,
          "Row": "11",
          "Section": "108",
          "W_Avg_Price": 0.29625486725663713
         },
         {
          "QuantityRange": 10,
          "RawPrice": 654.25,
          "Row": "13",
          "Section": "108",
          "W_Avg_Price": 1.1579646017699115
         },
         {
          "QuantityRange": 8,
          "RawPrice": 322.83,
          "Row": "14",
          "Section": "108",
          "W_Avg_Price": 0.45710442477876106
         },
         {
          "QuantityRange": 26,
          "RawPrice": 435.32,
          "Row": "15",
          "Section": "108",
          "W_Avg_Price": 2.003242477876106
         },
         {
          "QuantityRange": 8,
          "RawPrice": 665.74,
          "Row": "16",
          "Section": "108",
          "W_Avg_Price": 0.9426407079646018
         },
         {
          "QuantityRange": 26,
          "RawPrice": 373.9575,
          "Row": "17",
          "Section": "108",
          "W_Avg_Price": 1.720866371681416
         },
         {
          "QuantityRange": 4,
          "RawPrice": 459.76,
          "Row": "4",
          "Section": "108",
          "W_Avg_Price": 0.3254938053097345
         },
         {
          "QuantityRange": 4,
          "RawPrice": 397.38,
          "Row": "5",
          "Section": "108",
          "W_Avg_Price": 0.2813309734513274
         },
         {
          "QuantityRange": 4,
          "RawPrice": 372.88,
          "Row": "6",
          "Section": "108",
          "W_Avg_Price": 0.2639858407079646
         },
         {
          "QuantityRange": 6,
          "RawPrice": 397.38,
          "Row": "7",
          "Section": "108",
          "W_Avg_Price": 0.4219964601769911
         },
         {
          "QuantityRange": 18,
          "RawPrice": 590.29,
          "Row": "8",
          "Section": "108",
          "W_Avg_Price": 1.8805699115044248
         },
         {
          "QuantityRange": 16,
          "RawPrice": 726.0166666666668,
          "Row": "9",
          "Section": "108",
          "W_Avg_Price": 2.055976401179941
         },
         {
          "QuantityRange": 4,
          "RawPrice": 444.31,
          "Row": "",
          "Section": "109",
          "W_Avg_Price": 0.3145557522123894
         },
         {
          "QuantityRange": 8,
          "RawPrice": 585.1,
          "Row": "12",
          "Section": "109",
          "W_Avg_Price": 0.8284601769911505
         },
         {
          "QuantityRange": 4,
          "RawPrice": 399,
          "Row": "13",
          "Section": "109",
          "W_Avg_Price": 0.2824778761061947
         },
         {
          "QuantityRange": 8,
          "RawPrice": 776.16,
          "Row": "14",
          "Section": "109",
          "W_Avg_Price": 1.098987610619469
         },
         {
          "QuantityRange": 60,
          "RawPrice": 384.76733333333334,
          "Row": "16",
          "Section": "109",
          "W_Avg_Price": 4.086024778761062
         },
         {
          "QuantityRange": 4,
          "RawPrice": 562.52,
          "Row": "17",
          "Section": "109",
          "W_Avg_Price": 0.3982442477876106
         },
         {
          "QuantityRange": 2,
          "RawPrice": 558.6,
          "Row": "2",
          "Section": "109",
          "W_Avg_Price": 0.1977345132743363
         },
         {
          "QuantityRange": 4,
          "RawPrice": 514.98,
          "Row": "5",
          "Section": "109",
          "W_Avg_Price": 0.36458761061946904
         },
         {
          "QuantityRange": 8,
          "RawPrice": 490.48,
          "Row": "8",
          "Section": "109",
          "W_Avg_Price": 0.6944849557522124
         },
         {
          "QuantityRange": 16,
          "RawPrice": 1390.655,
          "Row": "1",
          "Section": "110",
          "W_Avg_Price": 3.938138053097345
         },
         {
          "QuantityRange": 4,
          "RawPrice": 599.7049999999999,
          "Row": "10",
          "Section": "110",
          "W_Avg_Price": 0.42456991150442475
         },
         {
          "QuantityRange": 4,
          "RawPrice": 844.76,
          "Row": "11",
          "Section": "110",
          "W_Avg_Price": 0.5980601769911504
         },
         {
          "QuantityRange": 4,
          "RawPrice": 562.5,
          "Row": "12",
          "Section": "110",
          "W_Avg_Price": 0.39823008849557523
         },
         {
          "QuantityRange": 4,
          "RawPrice": 755.58,
          "Row": "14",
          "Section": "110",
          "W_Avg_Price": 0.5349238938053098
         },
         {
          "QuantityRange": 14,
          "RawPrice": 529.485,
          "Row": "15",
          "Section": "110",
          "W_Avg_Price": 1.3119982300884956
         },
         {
          "QuantityRange": 8,
          "RawPrice": 635.055,
          "Row": "16",
          "Section": "110",
          "W_Avg_Price": 0.8991929203539822
         },
         {
          "QuantityRange": 8,
          "RawPrice": 709.625,
          "Row": "17",
          "Section": "110",
          "W_Avg_Price": 1.004778761061947
         },
         {
          "QuantityRange": 4,
          "RawPrice": 585,
          "Row": "18",
          "Section": "110",
          "W_Avg_Price": 0.41415929203539825
         },
         {
          "QuantityRange": 4,
          "RawPrice": 759.98,
          "Row": "2",
          "Section": "110",
          "W_Avg_Price": 0.5380389380530973
         },
         {
          "QuantityRange": 8,
          "RawPrice": 825.75,
          "Row": "3",
          "Section": "110",
          "W_Avg_Price": 1.169203539823009
         },
         {
          "QuantityRange": 16,
          "RawPrice": 758.935,
          "Row": "4",
          "Section": "110",
          "W_Avg_Price": 2.149196460176991
         },
         {
          "QuantityRange": 4,
          "RawPrice": 1690.5,
          "Row": "6",
          "Section": "110",
          "W_Avg_Price": 1.1968141592920354
         },
         {
          "QuantityRange": 6,
          "RawPrice": 1145.0349999999999,
          "Row": "7",
          "Section": "110",
          "W_Avg_Price": 1.2159663716814157
         },
         {
          "QuantityRange": 8,
          "RawPrice": 1380,
          "Row": "9",
          "Section": "110",
          "W_Avg_Price": 1.9539823008849557
         },
         {
          "QuantityRange": 4,
          "RawPrice": 2463.72,
          "Row": "A",
          "Section": "110",
          "W_Avg_Price": 1.7442265486725663
         },
         {
          "QuantityRange": 4,
          "RawPrice": 882.48,
          "Row": "B",
          "Section": "110",
          "W_Avg_Price": 0.6247646017699116
         },
         {
          "QuantityRange": 58,
          "RawPrice": 1100.7075,
          "Row": "1",
          "Section": "111",
          "W_Avg_Price": 11.299298230088494
         },
         {
          "QuantityRange": 8,
          "RawPrice": 735.48,
          "Row": "10",
          "Section": "111",
          "W_Avg_Price": 1.041387610619469
         },
         {
          "QuantityRange": 8,
          "RawPrice": 965.76,
          "Row": "12",
          "Section": "111",
          "W_Avg_Price": 1.3674477876106195
         },
         {
          "QuantityRange": 12,
          "RawPrice": 1732.115,
          "Row": "13",
          "Section": "111",
          "W_Avg_Price": 3.678828318584071
         },
         {
          "QuantityRange": 48,
          "RawPrice": 583.6983333333334,
          "Row": "14",
          "Section": "111",
          "W_Avg_Price": 4.958853097345133
         },
         {
          "QuantityRange": 18,
          "RawPrice": 2458.246666666667,
          "Row": "16",
          "Section": "111",
          "W_Avg_Price": 7.831582300884956
         },
         {
          "QuantityRange": 2,
          "RawPrice": 1546.44,
          "Row": "2",
          "Section": "111",
          "W_Avg_Price": 0.5474123893805309
         },
         {
          "QuantityRange": 10,
          "RawPrice": 1202.565,
          "Row": "3",
          "Section": "111",
          "W_Avg_Price": 2.1284336283185845
         },
         {
          "QuantityRange": 8,
          "RawPrice": 1070,
          "Row": "4",
          "Section": "111",
          "W_Avg_Price": 1.5150442477876107
         },
         {
          "QuantityRange": 12,
          "RawPrice": 1066.9,
          "Row": "7",
          "Section": "111",
          "W_Avg_Price": 2.265982300884956
         },
         {
          "QuantityRange": 6,
          "RawPrice": 799.61,
          "Row": "8",
          "Section": "111",
          "W_Avg_Price": 0.8491433628318584
         },
         {
          "QuantityRange": 8,
          "RawPrice": 1840,
          "Row": "9",
          "Section": "111",
          "W_Avg_Price": 2.6053097345132743
         },
         {
          "QuantityRange": 4,
          "RawPrice": 2534.28,
          "Row": "A",
          "Section": "111",
          "W_Avg_Price": 1.7941805309734515
         },
         {
          "QuantityRange": 16,
          "RawPrice": 1694.9399999999998,
          "Row": "B",
          "Section": "111",
          "W_Avg_Price": 4.7998300884955745
         },
         {
          "QuantityRange": 12,
          "RawPrice": 1152.1999999999998,
          "Row": "10",
          "Section": "112",
          "W_Avg_Price": 2.447150442477876
         },
         {
          "QuantityRange": 4,
          "RawPrice": 692.58,
          "Row": "11",
          "Section": "112",
          "W_Avg_Price": 0.49032212389380536
         },
         {
          "QuantityRange": 8,
          "RawPrice": 625.615,
          "Row": "12",
          "Section": "112",
          "W_Avg_Price": 0.8858265486725664
         },
         {
          "QuantityRange": 8,
          "RawPrice": 588.48,
          "Row": "13",
          "Section": "112",
          "W_Avg_Price": 0.8332460176991151
         },
         {
          "QuantityRange": 4,
          "RawPrice": 540,
          "Row": "14",
          "Section": "112",
          "W_Avg_Price": 0.3823008849557522
         },
         {
          "QuantityRange": 4,
          "RawPrice": 577,
          "Row": "15",
          "Section": "112",
          "W_Avg_Price": 0.4084955752212389
         },
         {
          "QuantityRange": 12,
          "RawPrice": 655.4466666666667,
          "Row": "16",
          "Section": "112",
          "W_Avg_Price": 1.3920991150442479
         },
         {
          "QuantityRange": 10,
          "RawPrice": 729.155,
          "Row": "17",
          "Section": "112",
          "W_Avg_Price": 1.2905398230088494
         },
         {
          "QuantityRange": 4,
          "RawPrice": 784.48,
          "Row": "2",
          "Section": "112",
          "W_Avg_Price": 0.5553840707964602
         },
         {
          "QuantityRange": 12,
          "RawPrice": 919.6833333333334,
          "Row": "4",
          "Section": "112",
          "W_Avg_Price": 1.9533097345132744
         },
         {
          "QuantityRange": 8,
          "RawPrice": 784.48,
          "Row": "6",
          "Section": "112",
          "W_Avg_Price": 1.1107681415929205
         },
         {
          "QuantityRange": 8,
          "RawPrice": 1656,
          "Row": "7",
          "Section": "112",
          "W_Avg_Price": 2.344778761061947
         },
         {
          "QuantityRange": 8,
          "RawPrice": 637.48,
          "Row": "8",
          "Section": "112",
          "W_Avg_Price": 0.9026265486725664
         },
         {
          "QuantityRange": 8,
          "RawPrice": 999.145,
          "Row": "9",
          "Section": "112",
          "W_Avg_Price": 1.4147185840707965
         },
         {
          "QuantityRange": 12,
          "RawPrice": 3136.77,
          "Row": "A",
          "Section": "112",
          "W_Avg_Price": 6.6621663716814155
         },
         {
          "QuantityRange": 4,
          "RawPrice": 697.5,
          "Row": "B",
          "Section": "112",
          "W_Avg_Price": 0.49380530973451325
         },
         {
          "QuantityRange": 4,
          "RawPrice": 705.6,
          "Row": "10",
          "Section": "113",
          "W_Avg_Price": 0.4995398230088496
         },
         {
          "QuantityRange": 4,
          "RawPrice": 522.34,
          "Row": "11",
          "Section": "113",
          "W_Avg_Price": 0.3697982300884956
         },
         {
          "QuantityRange": 12,
          "RawPrice": 661.5,
          "Row": "13",
          "Section": "113",
          "W_Avg_Price": 1.4049557522123894
         },
         {
          "QuantityRange": 4,
          "RawPrice": 412.97,
          "Row": "14",
          "Section": "113",
          "W_Avg_Price": 0.29236814159292035
         },
         {
          "QuantityRange": 10,
          "RawPrice": 860.655,
          "Row": "15",
          "Section": "113",
          "W_Avg_Price": 1.5232831858407079
         },
         {
          "QuantityRange": 4,
          "RawPrice": 628.18,
          "Row": "16",
          "Section": "113",
          "W_Avg_Price": 0.444729203539823
         },
         {
          "QuantityRange": 4,
          "RawPrice": 422.1,
          "Row": "17",
          "Section": "113",
          "W_Avg_Price": 0.29883185840707965
         },
         {
          "QuantityRange": 2,
          "RawPrice": 656.6,
          "Row": "2",
          "Section": "113",
          "W_Avg_Price": 0.23242477876106196
         },
         {
          "QuantityRange": 4,
          "RawPrice": 369,
          "Row": "3",
          "Section": "113",
          "W_Avg_Price": 0.26123893805309734
         },
         {
          "QuantityRange": 4,
          "RawPrice": 651.58,
          "Row": "4",
          "Section": "113",
          "W_Avg_Price": 0.461295575221239
         },
         {
          "QuantityRange": 4,
          "RawPrice": 634.06,
          "Row": "7",
          "Section": "113",
          "W_Avg_Price": 0.44889203539823
         },
         {
          "QuantityRange": 4,
          "RawPrice": 356.4,
          "Row": "9",
          "Section": "113",
          "W_Avg_Price": 0.25231858407079644
         },
         {
          "QuantityRange": 4,
          "RawPrice": 776.92,
          "Row": "10",
          "Section": "114",
          "W_Avg_Price": 0.5500318584070796
         },
         {
          "QuantityRange": 6,
          "RawPrice": 565.46,
          "Row": "12",
          "Section": "114",
          "W_Avg_Price": 0.6004884955752213
         },
         {
          "QuantityRange": 4,
          "RawPrice": 207,
          "Row": "13",
          "Section": "114",
          "W_Avg_Price": 0.1465486725663717
         },
         {
          "QuantityRange": 8,
          "RawPrice": 309.845,
          "Row": "14",
          "Section": "114",
          "W_Avg_Price": 0.4387185840707965
         },
         {
          "QuantityRange": 16,
          "RawPrice": 647.24,
          "Row": "16",
          "Section": "114",
          "W_Avg_Price": 1.83289203539823
         },
         {
          "QuantityRange": 10,
          "RawPrice": 347.21000000000004,
          "Row": "17",
          "Section": "114",
          "W_Avg_Price": 0.6145309734513275
         },
         {
          "QuantityRange": 8,
          "RawPrice": 423.36,
          "Row": "19",
          "Section": "114",
          "W_Avg_Price": 0.5994477876106195
         },
         {
          "QuantityRange": 12,
          "RawPrice": 307.5233333333333,
          "Row": "20",
          "Section": "114",
          "W_Avg_Price": 0.6531469026548672
         },
         {
          "QuantityRange": 6,
          "RawPrice": 627.3599999999999,
          "Row": "4",
          "Section": "114",
          "W_Avg_Price": 0.6662230088495574
         },
         {
          "QuantityRange": 4,
          "RawPrice": 387.58,
          "Row": "5",
          "Section": "114",
          "W_Avg_Price": 0.2743929203539823
         },
         {
          "QuantityRange": 14,
          "RawPrice": 438.51,
          "Row": "6",
          "Section": "114",
          "W_Avg_Price": 1.0865734513274334
         },
         {
          "QuantityRange": 14,
          "RawPrice": 549.38,
          "Row": "8",
          "Section": "114",
          "W_Avg_Price": 1.3612955752212388
         },
         {
          "QuantityRange": 24,
          "RawPrice": 307.22,
          "Row": "10",
          "Section": "115",
          "W_Avg_Price": 1.3050053097345133
         },
         {
          "QuantityRange": 4,
          "RawPrice": 326.34,
          "Row": "11",
          "Section": "115",
          "W_Avg_Price": 0.2310371681415929
         },
         {
          "QuantityRange": 4,
          "RawPrice": 243.9,
          "Row": "12",
          "Section": "115",
          "W_Avg_Price": 0.1726725663716814
         },
         {
          "QuantityRange": 16,
          "RawPrice": 592.3,
          "Row": "14",
          "Section": "115",
          "W_Avg_Price": 1.6773097345132741
         },
         {
          "QuantityRange": 16,
          "RawPrice": 273.9066666666667,
          "Row": "16",
          "Section": "115",
          "W_Avg_Price": 0.7756648967551624
         },
         {
          "QuantityRange": 8,
          "RawPrice": 385.87,
          "Row": "2",
          "Section": "115",
          "W_Avg_Price": 0.5463646017699115
         },
         {
          "QuantityRange": 8,
          "RawPrice": 348.38,
          "Row": "3",
          "Section": "115",
          "W_Avg_Price": 0.49328141592920355
         },
         {
          "QuantityRange": 4,
          "RawPrice": 306.71,
          "Row": "4",
          "Section": "115",
          "W_Avg_Price": 0.21713982300884954
         },
         {
          "QuantityRange": 4,
          "RawPrice": 301.77,
          "Row": "5",
          "Section": "115",
          "W_Avg_Price": 0.21364247787610618
         },
         {
          "QuantityRange": 12,
          "RawPrice": 299.38,
          "Row": "6",
          "Section": "115",
          "W_Avg_Price": 0.6358513274336283
         },
         {
          "QuantityRange": 12,
          "RawPrice": 326.25,
          "Row": "7",
          "Section": "115",
          "W_Avg_Price": 0.6929203539823009
         },
         {
          "QuantityRange": 8,
          "RawPrice": 307.72,
          "Row": "8",
          "Section": "115",
          "W_Avg_Price": 0.4357097345132744
         },
         {
          "QuantityRange": 8,
          "RawPrice": 266.94,
          "Row": "9",
          "Section": "115",
          "W_Avg_Price": 0.37796814159292036
         },
         {
          "QuantityRange": 4,
          "RawPrice": 477.75,
          "Row": "B",
          "Section": "115",
          "W_Avg_Price": 0.33823008849557523
         },
         {
          "QuantityRange": 4,
          "RawPrice": 460.07,
          "Row": "E",
          "Section": "115",
          "W_Avg_Price": 0.32571327433628317
         },
         {
          "QuantityRange": 4,
          "RawPrice": 444.31,
          "Row": "F",
          "Section": "115",
          "W_Avg_Price": 0.3145557522123894
         },
         {
          "QuantityRange": 12,
          "RawPrice": 736.135,
          "Row": "H",
          "Section": "115",
          "W_Avg_Price": 1.5634725663716813
         },
         {
          "QuantityRange": 10,
          "RawPrice": 416.77,
          "Row": "J",
          "Section": "115",
          "W_Avg_Price": 0.737646017699115
         },
         {
          "QuantityRange": 10,
          "RawPrice": 337.61,
          "Row": "K",
          "Section": "115",
          "W_Avg_Price": 0.5975398230088497
         },
         {
          "QuantityRange": 4,
          "RawPrice": 281.98,
          "Row": "10",
          "Section": "116",
          "W_Avg_Price": 0.19963185840707967
         },
         {
          "QuantityRange": 6,
          "RawPrice": 467.46,
          "Row": "12",
          "Section": "116",
          "W_Avg_Price": 0.4964176991150442
         },
         {
          "QuantityRange": 2,
          "RawPrice": 329.13,
          "Row": "14",
          "Section": "116",
          "W_Avg_Price": 0.11650619469026549
         },
         {
          "QuantityRange": 8,
          "RawPrice": 367.5,
          "Row": "15",
          "Section": "116",
          "W_Avg_Price": 0.5203539823008849
         },
         {
          "QuantityRange": 8,
          "RawPrice": 306.98,
          "Row": "17",
          "Section": "116",
          "W_Avg_Price": 0.4346619469026549
         },
         {
          "QuantityRange": 4,
          "RawPrice": 292.5,
          "Row": "18",
          "Section": "116",
          "W_Avg_Price": 0.20707964601769913
         },
         {
          "QuantityRange": 4,
          "RawPrice": 312.62,
          "Row": "18W",
          "Section": "116",
          "W_Avg_Price": 0.22132389380530973
         },
         {
          "QuantityRange": 8,
          "RawPrice": 537.04,
          "Row": "19",
          "Section": "116",
          "W_Avg_Price": 0.7604106194690265
         },
         {
          "QuantityRange": 12,
          "RawPrice": 347.4,
          "Row": "2",
          "Section": "116",
          "W_Avg_Price": 0.7378407079646017
         },
         {
          "QuantityRange": 20,
          "RawPrice": 615.37,
          "Row": "3",
          "Section": "116",
          "W_Avg_Price": 2.1783008849557524
         },
         {
          "QuantityRange": 4,
          "RawPrice": 565.46,
          "Row": "4",
          "Section": "116",
          "W_Avg_Price": 0.40032566371681416
         },
         {
          "QuantityRange": 4,
          "RawPrice": 352.03,
          "Row": "5",
          "Section": "116",
          "W_Avg_Price": 0.24922477876106192
         },
         {
          "QuantityRange": 8,
          "RawPrice": 279.78,
          "Row": "6",
          "Section": "116",
          "W_Avg_Price": 0.39614867256637165
         },
         {
          "QuantityRange": 4,
          "RawPrice": 321.56,
          "Row": "7",
          "Section": "116",
          "W_Avg_Price": 0.22765309734513275
         },
         {
          "QuantityRange": 4,
          "RawPrice": 459.62,
          "Row": "8",
          "Section": "116",
          "W_Avg_Price": 0.32539469026548673
         },
         {
          "QuantityRange": 8,
          "RawPrice": 335.76,
          "Row": "9",
          "Section": "116",
          "W_Avg_Price": 0.475412389380531
         },
         {
          "QuantityRange": 4,
          "RawPrice": 1120.14,
          "Row": "B",
          "Section": "116",
          "W_Avg_Price": 0.7930194690265487
         },
         {
          "QuantityRange": 4,
          "RawPrice": 1121.12,
          "Row": "C",
          "Section": "116",
          "W_Avg_Price": 0.7937132743362831
         },
         {
          "QuantityRange": 4,
          "RawPrice": 337.5,
          "Row": "G",
          "Section": "116",
          "W_Avg_Price": 0.23893805309734514
         },
         {
          "QuantityRange": 16,
          "RawPrice": 485.5,
          "Row": "J",
          "Section": "116",
          "W_Avg_Price": 1.3748672566371682
         },
         {
          "QuantityRange": 4,
          "RawPrice": 345,
          "Row": "K",
          "Section": "116",
          "W_Avg_Price": 0.24424778761061947
         },
         {
          "QuantityRange": 8,
          "RawPrice": 421.425,
          "Row": "L",
          "Section": "116",
          "W_Avg_Price": 0.5967079646017699
         },
         {
          "QuantityRange": 4,
          "RawPrice": 526.5,
          "Row": "M",
          "Section": "116",
          "W_Avg_Price": 0.3727433628318584
         },
         {
          "QuantityRange": 2,
          "RawPrice": 565.46,
          "Row": "10",
          "Section": "117",
          "W_Avg_Price": 0.20016283185840708
         },
         {
          "QuantityRange": 8,
          "RawPrice": 565.46,
          "Row": "12",
          "Section": "117",
          "W_Avg_Price": 0.8006513274336283
         },
         {
          "QuantityRange": 4,
          "RawPrice": 297,
          "Row": "13",
          "Section": "117",
          "W_Avg_Price": 0.21026548672566372
         },
         {
          "QuantityRange": 8,
          "RawPrice": 348.32,
          "Row": "14",
          "Section": "117",
          "W_Avg_Price": 0.49319646017699115
         },
         {
          "QuantityRange": 8,
          "RawPrice": 389.06,
          "Row": "15",
          "Section": "117",
          "W_Avg_Price": 0.5508814159292036
         },
         {
          "QuantityRange": 4,
          "RawPrice": 494.9,
          "Row": "17",
          "Section": "117",
          "W_Avg_Price": 0.35037168141592917
         },
         {
          "QuantityRange": 4,
          "RawPrice": 289.8,
          "Row": "18",
          "Section": "117",
          "W_Avg_Price": 0.20516814159292035
         },
         {
          "QuantityRange": 12,
          "RawPrice": 1073.795,
          "Row": "19",
          "Section": "117",
          "W_Avg_Price": 2.2806265486725663
         },
         {
          "QuantityRange": 22,
          "RawPrice": 320.93,
          "Row": "20",
          "Section": "117",
          "W_Avg_Price": 1.2496389380530974
         },
         {
          "QuantityRange": 4,
          "RawPrice": 416.98,
          "Row": "4",
          "Section": "117",
          "W_Avg_Price": 0.2952070796460177
         },
         {
          "QuantityRange": 8,
          "RawPrice": 416.98,
          "Row": "5",
          "Section": "117",
          "W_Avg_Price": 0.5904141592920354
         },
         {
          "QuantityRange": 4,
          "RawPrice": 428,
          "Row": "6",
          "Section": "117",
          "W_Avg_Price": 0.3030088495575221
         },
         {
          "QuantityRange": 4,
          "RawPrice": 565.46,
          "Row": "7",
          "Section": "117",
          "W_Avg_Price": 0.40032566371681416
         },
         {
          "QuantityRange": 4,
          "RawPrice": 1409.24,
          "Row": "A",
          "Section": "117",
          "W_Avg_Price": 0.9976920353982301
         },
         {
          "QuantityRange": 2,
          "RawPrice": 1799.99,
          "Row": "C",
          "Section": "117",
          "W_Avg_Price": 0.6371646017699115
         },
         {
          "QuantityRange": 4,
          "RawPrice": 840.99,
          "Row": "D",
          "Section": "117",
          "W_Avg_Price": 0.5953911504424779
         },
         {
          "QuantityRange": 14,
          "RawPrice": 643.6466666666666,
          "Row": "E",
          "Section": "117",
          "W_Avg_Price": 1.5948766961651917
         },
         {
          "QuantityRange": 4,
          "RawPrice": 633.56,
          "Row": "F",
          "Section": "117",
          "W_Avg_Price": 0.44853805309734507
         },
         {
          "QuantityRange": 4,
          "RawPrice": 606.62,
          "Row": "G",
          "Section": "117",
          "W_Avg_Price": 0.4294654867256637
         },
         {
          "QuantityRange": 6,
          "RawPrice": 644.3299999999999,
          "Row": "J",
          "Section": "117",
          "W_Avg_Price": 0.6842442477876105
         },
         {
          "QuantityRange": 6,
          "RawPrice": 699.3,
          "Row": "K",
          "Section": "117",
          "W_Avg_Price": 0.7426194690265485
         },
         {
          "QuantityRange": 4,
          "RawPrice": 517.5,
          "Row": "",
          "Section": "118",
          "W_Avg_Price": 0.3663716814159292
         },
         {
          "QuantityRange": 2,
          "RawPrice": 867.3,
          "Row": "10",
          "Section": "118",
          "W_Avg_Price": 0.3070088495575221
         },
         {
          "QuantityRange": 4,
          "RawPrice": 740.88,
          "Row": "12",
          "Section": "118",
          "W_Avg_Price": 0.5245168141592921
         },
         {
          "QuantityRange": 12,
          "RawPrice": 351,
          "Row": "13",
          "Section": "118",
          "W_Avg_Price": 0.7454867256637168
         },
         {
          "QuantityRange": 4,
          "RawPrice": 670.32,
          "Row": "14",
          "Section": "118",
          "W_Avg_Price": 0.47456283185840714
         },
         {
          "QuantityRange": 4,
          "RawPrice": 342,
          "Row": "17",
          "Section": "118",
          "W_Avg_Price": 0.24212389380530974
         },
         {
          "QuantityRange": 4,
          "RawPrice": 342,
          "Row": "18",
          "Section": "118",
          "W_Avg_Price": 0.24212389380530974
         },
         {
          "QuantityRange": 12,
          "RawPrice": 643.98,
          "Row": "19",
          "Section": "118",
          "W_Avg_Price": 1.367745132743363
         },
         {
          "QuantityRange": 10,
          "RawPrice": 643.13,
          "Row": "20",
          "Section": "118",
          "W_Avg_Price": 1.138283185840708
         },
         {
          "QuantityRange": 4,
          "RawPrice": 1680,
          "Row": "1",
          "Section": "119",
          "W_Avg_Price": 1.1893805309734513
         },
         {
          "QuantityRange": 4,
          "RawPrice": 544.5,
          "Row": "12",
          "Section": "119",
          "W_Avg_Price": 0.38548672566371683
         },
         {
          "QuantityRange": 4,
          "RawPrice": 839.86,
          "Row": "15",
          "Section": "119",
          "W_Avg_Price": 0.5945911504424779
         },
         {
          "QuantityRange": 4,
          "RawPrice": 618.38,
          "Row": "16",
          "Section": "119",
          "W_Avg_Price": 0.43779115044247785
         },
         {
          "QuantityRange": 24,
          "RawPrice": 1080.22,
          "Row": "17",
          "Section": "119",
          "W_Avg_Price": 4.588545132743363
         },
         {
          "QuantityRange": 4,
          "RawPrice": 833.48,
          "Row": "3",
          "Section": "119",
          "W_Avg_Price": 0.5900743362831858
         },
         {
          "QuantityRange": 4,
          "RawPrice": 784.48,
          "Row": "4",
          "Section": "119",
          "W_Avg_Price": 0.5553840707964602
         },
         {
          "QuantityRange": 12,
          "RawPrice": 926.33,
          "Row": "5",
          "Section": "119",
          "W_Avg_Price": 1.9674265486725666
         },
         {
          "QuantityRange": 4,
          "RawPrice": 713.45,
          "Row": "6",
          "Section": "119",
          "W_Avg_Price": 0.5050973451327434
         },
         {
          "QuantityRange": 16,
          "RawPrice": 910.7233333333334,
          "Row": "7",
          "Section": "119",
          "W_Avg_Price": 2.579039528023599
         },
         {
          "QuantityRange": 4,
          "RawPrice": 612.98,
          "Row": "8",
          "Section": "119",
          "W_Avg_Price": 0.43396814159292035
         },
         {
          "QuantityRange": 12,
          "RawPrice": 784.48,
          "Row": "9",
          "Section": "119",
          "W_Avg_Price": 1.6661522123893806
         },
         {
          "QuantityRange": 8,
          "RawPrice": 1580.53,
          "Row": "A",
          "Section": "119",
          "W_Avg_Price": 2.2379185840707962
         },
         {
          "QuantityRange": 90,
          "RawPrice": 1113.124347826087,
          "Row": "B",
          "Section": "119",
          "W_Avg_Price": 17.731184301654483
         },
         {
          "QuantityRange": 4,
          "RawPrice": 404.74,
          "Row": "1",
          "Section": "205",
          "W_Avg_Price": 0.28654159292035397
         },
         {
          "QuantityRange": 4,
          "RawPrice": 180,
          "Row": "10",
          "Section": "205",
          "W_Avg_Price": 0.12743362831858407
         },
         {
          "QuantityRange": 12,
          "RawPrice": 318.97,
          "Row": "11",
          "Section": "205",
          "W_Avg_Price": 0.6774584070796461
         },
         {
          "QuantityRange": 8,
          "RawPrice": 189,
          "Row": "12",
          "Section": "205",
          "W_Avg_Price": 0.26761061946902653
         },
         {
          "QuantityRange": 4,
          "RawPrice": 326.34,
          "Row": "6",
          "Section": "205",
          "W_Avg_Price": 0.2310371681415929
         },
         {
          "QuantityRange": 4,
          "RawPrice": 219.35,
          "Row": "9",
          "Section": "205",
          "W_Avg_Price": 0.15529203539823008
         },
         {
          "QuantityRange": 4,
          "RawPrice": 296.82,
          "Row": "1",
          "Section": "206",
          "W_Avg_Price": 0.21013805309734512
         },
         {
          "QuantityRange": 18,
          "RawPrice": 295.5466666666667,
          "Row": "10",
          "Section": "206",
          "W_Avg_Price": 0.9415646017699115
         },
         {
          "QuantityRange": 8,
          "RawPrice": 209.9,
          "Row": "11",
          "Section": "206",
          "W_Avg_Price": 0.29720353982300884
         },
         {
          "QuantityRange": 10,
          "RawPrice": 187.93,
          "Row": "12",
          "Section": "206",
          "W_Avg_Price": 0.3326194690265487
         },
         {
          "QuantityRange": 4,
          "RawPrice": 191.47,
          "Row": "2",
          "Section": "206",
          "W_Avg_Price": 0.13555398230088495
         },
         {
          "QuantityRange": 6,
          "RawPrice": 250.38,
          "Row": "3",
          "Section": "206",
          "W_Avg_Price": 0.2658902654867257
         },
         {
          "QuantityRange": 4,
          "RawPrice": 191.58,
          "Row": "4",
          "Section": "206",
          "W_Avg_Price": 0.13563185840707964
         },
         {
          "QuantityRange": 4,
          "RawPrice": 233.79,
          "Row": "6",
          "Section": "206",
          "W_Avg_Price": 0.1655150442477876
         },
         {
          "QuantityRange": 4,
          "RawPrice": 220.5,
          "Row": "8",
          "Section": "206",
          "W_Avg_Price": 0.1561061946902655
         },
         {
          "QuantityRange": 20,
          "RawPrice": 323.69500000000005,
          "Row": "9",
          "Section": "206",
          "W_Avg_Price": 1.1458230088495578
         },
         {
          "QuantityRange": 8,
          "RawPrice": 281.98,
          "Row": "1",
          "Section": "207",
          "W_Avg_Price": 0.39926371681415934
         },
         {
          "QuantityRange": 4,
          "RawPrice": 430.49,
          "Row": "10",
          "Section": "207",
          "W_Avg_Price": 0.3047716814159292
         },
         {
          "QuantityRange": 12,
          "RawPrice": 225.09333333333333,
          "Row": "12",
          "Section": "207",
          "W_Avg_Price": 0.4780743362831858
         },
         {
          "QuantityRange": 8,
          "RawPrice": 220.98,
          "Row": "2",
          "Section": "207",
          "W_Avg_Price": 0.3128920353982301
         },
         {
          "QuantityRange": 4,
          "RawPrice": 170.1,
          "Row": "4",
          "Section": "207",
          "W_Avg_Price": 0.12042477876106195
         },
         {
          "QuantityRange": 4,
          "RawPrice": 209.7,
          "Row": "5",
          "Section": "207",
          "W_Avg_Price": 0.14846017699115044
         },
         {
          "QuantityRange": 4,
          "RawPrice": 243.04,
          "Row": "6",
          "Section": "207",
          "W_Avg_Price": 0.17206371681415927
         },
         {
          "QuantityRange": 8,
          "RawPrice": 208.86,
          "Row": "7",
          "Section": "207",
          "W_Avg_Price": 0.29573097345132743
         },
         {
          "QuantityRange": 2,
          "RawPrice": 243.23,
          "Row": "8",
          "Section": "207",
          "W_Avg_Price": 0.08609911504424779
         },
         {
          "QuantityRange": 10,
          "RawPrice": 186.93,
          "Row": "9",
          "Section": "207",
          "W_Avg_Price": 0.3308495575221239
         },
         {
          "QuantityRange": 4,
          "RawPrice": 230.78,
          "Row": "1",
          "Section": "208",
          "W_Avg_Price": 0.16338407079646017
         },
         {
          "QuantityRange": 24,
          "RawPrice": 209.25,
          "Row": "10",
          "Section": "208",
          "W_Avg_Price": 0.8888495575221239
         },
         {
          "QuantityRange": 8,
          "RawPrice": 216.08,
          "Row": "2",
          "Section": "208",
          "W_Avg_Price": 0.305953982300885
         },
         {
          "QuantityRange": 4,
          "RawPrice": 155.25,
          "Row": "4",
          "Section": "208",
          "W_Avg_Price": 0.10991150442477876
         },
         {
          "QuantityRange": 8,
          "RawPrice": 206.28,
          "Row": "5",
          "Section": "208",
          "W_Avg_Price": 0.2920778761061947
         },
         {
          "QuantityRange": 8,
          "RawPrice": 161.55,
          "Row": "7",
          "Section": "208",
          "W_Avg_Price": 0.22874336283185842
         },
         {
          "QuantityRange": 6,
          "RawPrice": 206.42000000000002,
          "Row": "9",
          "Section": "208",
          "W_Avg_Price": 0.21920707964601768
         },
         {
          "QuantityRange": 8,
          "RawPrice": 250.38,
          "Row": "1",
          "Section": "209",
          "W_Avg_Price": 0.35452035398230086
         },
         {
          "QuantityRange": 8,
          "RawPrice": 363.95,
          "Row": "10",
          "Section": "209",
          "W_Avg_Price": 0.5153274336283186
         },
         {
          "QuantityRange": 4,
          "RawPrice": 322.42,
          "Row": "4",
          "Section": "209",
          "W_Avg_Price": 0.2282619469026549
         },
         {
          "QuantityRange": 4,
          "RawPrice": 213.61,
          "Row": "5",
          "Section": "209",
          "W_Avg_Price": 0.15122831858407082
         },
         {
          "QuantityRange": 4,
          "RawPrice": 171,
          "Row": "7",
          "Section": "209",
          "W_Avg_Price": 0.12106194690265487
         },
         {
          "QuantityRange": 8,
          "RawPrice": 189.17000000000002,
          "Row": "9",
          "Section": "209",
          "W_Avg_Price": 0.26785132743362833
         },
         {
          "QuantityRange": 4,
          "RawPrice": 321.56,
          "Row": "1",
          "Section": "210",
          "W_Avg_Price": 0.22765309734513275
         },
         {
          "QuantityRange": 4,
          "RawPrice": 179.1,
          "Row": "10",
          "Section": "210",
          "W_Avg_Price": 0.12679646017699114
         },
         {
          "QuantityRange": 4,
          "RawPrice": 228.08,
          "Row": "12",
          "Section": "210",
          "W_Avg_Price": 0.16147256637168142
         },
         {
          "QuantityRange": 4,
          "RawPrice": 337.5,
          "Row": "2",
          "Section": "210",
          "W_Avg_Price": 0.23893805309734514
         },
         {
          "QuantityRange": 4,
          "RawPrice": 666.24,
          "Row": "8",
          "Section": "210",
          "W_Avg_Price": 0.47167433628318584
         },
         {
          "QuantityRange": 8,
          "RawPrice": 207.70499999999998,
          "Row": "9",
          "Section": "210",
          "W_Avg_Price": 0.2940955752212389
         },
         {
          "QuantityRange": 4,
          "RawPrice": 594.48,
          "Row": "10",
          "Section": "214",
          "W_Avg_Price": 0.420870796460177
         },
         {
          "QuantityRange": 28,
          "RawPrice": 309.3025,
          "Row": "12",
          "Section": "214",
          "W_Avg_Price": 1.5328265486725665
         },
         {
          "QuantityRange": 4,
          "RawPrice": 284.2,
          "Row": "6",
          "Section": "214",
          "W_Avg_Price": 0.20120353982300884
         },
         {
          "QuantityRange": 8,
          "RawPrice": 221.78,
          "Row": "8",
          "Section": "214",
          "W_Avg_Price": 0.31402477876106194
         },
         {
          "QuantityRange": 4,
          "RawPrice": 576.21,
          "Row": "10",
          "Section": "215",
          "W_Avg_Price": 0.40793628318584074
         },
         {
          "QuantityRange": 28,
          "RawPrice": 255.002,
          "Row": "11",
          "Section": "215",
          "W_Avg_Price": 1.2637267256637168
         },
         {
          "QuantityRange": 12,
          "RawPrice": 177.10500000000002,
          "Row": "12",
          "Section": "215",
          "W_Avg_Price": 0.37615221238938057
         },
         {
          "QuantityRange": 4,
          "RawPrice": 226.25,
          "Row": "3",
          "Section": "215",
          "W_Avg_Price": 0.16017699115044248
         },
         {
          "QuantityRange": 4,
          "RawPrice": 247.5,
          "Row": "4",
          "Section": "215",
          "W_Avg_Price": 0.1752212389380531
         },
         {
          "QuantityRange": 4,
          "RawPrice": 170.89,
          "Row": "5",
          "Section": "215",
          "W_Avg_Price": 0.12098407079646016
         },
         {
          "QuantityRange": 6,
          "RawPrice": 428.41999999999996,
          "Row": "6",
          "Section": "215",
          "W_Avg_Price": 0.45495929203539814
         },
         {
          "QuantityRange": 8,
          "RawPrice": 208.355,
          "Row": "9",
          "Section": "215",
          "W_Avg_Price": 0.2950159292035398
         },
         {
          "QuantityRange": 16,
          "RawPrice": 323.52000000000004,
          "Row": "1",
          "Section": "216",
          "W_Avg_Price": 0.9161628318584072
         },
         {
          "QuantityRange": 4,
          "RawPrice": 162,
          "Row": "10",
          "Section": "216",
          "W_Avg_Price": 0.11469026548672566
         },
         {
          "QuantityRange": 4,
          "RawPrice": 174.6,
          "Row": "11",
          "Section": "216",
          "W_Avg_Price": 0.12361061946902654
         },
         {
          "QuantityRange": 4,
          "RawPrice": 175.95,
          "Row": "12",
          "Section": "216",
          "W_Avg_Price": 0.12456637168141592
         },
         {
          "QuantityRange": 4,
          "RawPrice": 201.38,
          "Row": "2",
          "Section": "216",
          "W_Avg_Price": 0.14256991150442477
         },
         {
          "QuantityRange": 8,
          "RawPrice": 212.72,
          "Row": "3",
          "Section": "216",
          "W_Avg_Price": 0.30119646017699114
         },
         {
          "QuantityRange": 6,
          "RawPrice": 253.02,
          "Row": "6",
          "Section": "216",
          "W_Avg_Price": 0.2686938053097345
         },
         {
          "QuantityRange": 6,
          "RawPrice": 215.19,
          "Row": "7",
          "Section": "216",
          "W_Avg_Price": 0.22852035398230086
         },
         {
          "QuantityRange": 4,
          "RawPrice": 318.5,
          "Row": "1",
          "Section": "217",
          "W_Avg_Price": 0.2254867256637168
         },
         {
          "QuantityRange": 4,
          "RawPrice": 193.03,
          "Row": "10",
          "Section": "217",
          "W_Avg_Price": 0.13665840707964602
         },
         {
          "QuantityRange": 8,
          "RawPrice": 190.60000000000002,
          "Row": "11",
          "Section": "217",
          "W_Avg_Price": 0.2698761061946903
         },
         {
          "QuantityRange": 4,
          "RawPrice": 318.5,
          "Row": "3",
          "Section": "217",
          "W_Avg_Price": 0.2254867256637168
         },
         {
          "QuantityRange": 4,
          "RawPrice": 270,
          "Row": "8",
          "Section": "217",
          "W_Avg_Price": 0.1911504424778761
         },
         {
          "QuantityRange": 8,
          "RawPrice": 208.06,
          "Row": "9",
          "Section": "217",
          "W_Avg_Price": 0.29459823008849556
         },
         {
          "QuantityRange": 4,
          "RawPrice": 365.54,
          "Row": "1",
          "Section": "218",
          "W_Avg_Price": 0.25878938053097345
         },
         {
          "QuantityRange": 4,
          "RawPrice": 180,
          "Row": "10",
          "Section": "218",
          "W_Avg_Price": 0.12743362831858407
         },
         {
          "QuantityRange": 2,
          "RawPrice": 121.5,
          "Row": "11",
          "Section": "218",
          "W_Avg_Price": 0.04300884955752212
         },
         {
          "QuantityRange": 8,
          "RawPrice": 208.06,
          "Row": "12",
          "Section": "218",
          "W_Avg_Price": 0.29459823008849556
         },
         {
          "QuantityRange": 8,
          "RawPrice": 392.52,
          "Row": "2",
          "Section": "218",
          "W_Avg_Price": 0.5557805309734513
         },
         {
          "QuantityRange": 6,
          "RawPrice": 353.40999999999997,
          "Row": "4",
          "Section": "218",
          "W_Avg_Price": 0.37530265486725667
         },
         {
          "QuantityRange": 14,
          "RawPrice": 224.76999999999998,
          "Row": "8",
          "Section": "218",
          "W_Avg_Price": 0.5569522123893805
         },
         {
          "QuantityRange": 24,
          "RawPrice": 204.95000000000002,
          "Row": "11",
          "Section": "219",
          "W_Avg_Price": 0.8705840707964602
         },
         {
          "QuantityRange": 6,
          "RawPrice": 269.91,
          "Row": "12",
          "Section": "219",
          "W_Avg_Price": 0.28663008849557525
         },
         {
          "QuantityRange": 10,
          "RawPrice": 348.54,
          "Row": "4",
          "Section": "219",
          "W_Avg_Price": 0.6168849557522124
         },
         {
          "QuantityRange": 8,
          "RawPrice": 228.35500000000002,
          "Row": "8",
          "Section": "219",
          "W_Avg_Price": 0.3233345132743363
         },
         {
          "QuantityRange": 4,
          "RawPrice": 278.32,
          "Row": "1",
          "Section": "301",
          "W_Avg_Price": 0.19704070796460177
         },
         {
          "QuantityRange": 20,
          "RawPrice": 262.5925,
          "Row": "11",
          "Section": "301",
          "W_Avg_Price": 0.9295309734513273
         },
         {
          "QuantityRange": 22,
          "RawPrice": 185.09666666666666,
          "Row": "12",
          "Section": "301",
          "W_Avg_Price": 0.720730383480826
         },
         {
          "QuantityRange": 14,
          "RawPrice": 143.095,
          "Row": "14",
          "Section": "301",
          "W_Avg_Price": 0.3545716814159292
         },
         {
          "QuantityRange": 20,
          "RawPrice": 166.79500000000002,
          "Row": "15",
          "Section": "301",
          "W_Avg_Price": 0.590424778761062
         },
         {
          "QuantityRange": 4,
          "RawPrice": 231.33,
          "Row": "2",
          "Section": "301",
          "W_Avg_Price": 0.16377345132743365
         },
         {
          "QuantityRange": 4,
          "RawPrice": 241.11,
          "Row": "3",
          "Section": "301",
          "W_Avg_Price": 0.17069734513274337
         },
         {
          "QuantityRange": 8,
          "RawPrice": 225.9,
          "Row": "5",
          "Section": "301",
          "W_Avg_Price": 0.319858407079646
         },
         {
          "QuantityRange": 8,
          "RawPrice": 201.24,
          "Row": "6",
          "Section": "301",
          "W_Avg_Price": 0.284941592920354
         },
         {
          "QuantityRange": 6,
          "RawPrice": 182.445,
          "Row": "7",
          "Section": "301",
          "W_Avg_Price": 0.19374690265486727
         },
         {
          "QuantityRange": 8,
          "RawPrice": 156.78500000000003,
          "Row": "8",
          "Section": "301",
          "W_Avg_Price": 0.22199646017699118
         },
         {
          "QuantityRange": 14,
          "RawPrice": 206.87666666666667,
          "Row": "9",
          "Section": "301",
          "W_Avg_Price": 0.5126147492625369
         },
         {
          "QuantityRange": 10,
          "RawPrice": 189.675,
          "Row": "10",
          "Section": "302",
          "W_Avg_Price": 0.33570796460176994
         },
         {
          "QuantityRange": 2,
          "RawPrice": 119.03,
          "Row": "11",
          "Section": "302",
          "W_Avg_Price": 0.04213451327433628
         },
         {
          "QuantityRange": 16,
          "RawPrice": 159.43,
          "Row": "12",
          "Section": "302",
          "W_Avg_Price": 0.45148318584070796
         },
         {
          "QuantityRange": 4,
          "RawPrice": 113.28,
          "Row": "13",
          "Section": "302",
          "W_Avg_Price": 0.08019823008849558
         },
         {
          "QuantityRange": 20,
          "RawPrice": 142.63666666666668,
          "Row": "14",
          "Section": "302",
          "W_Avg_Price": 0.5049085545722715
         },
         {
          "QuantityRange": 8,
          "RawPrice": 154.57,
          "Row": "15",
          "Section": "302",
          "W_Avg_Price": 0.21886017699115043
         },
         {
          "QuantityRange": 4,
          "RawPrice": 180,
          "Row": "2W",
          "Section": "302",
          "W_Avg_Price": 0.12743362831858407
         },
         {
          "QuantityRange": 8,
          "RawPrice": 162.18,
          "Row": "6",
          "Section": "302",
          "W_Avg_Price": 0.2296353982300885
         },
         {
          "QuantityRange": 8,
          "RawPrice": 143.185,
          "Row": "7",
          "Section": "302",
          "W_Avg_Price": 0.20273982300884957
         },
         {
          "QuantityRange": 8,
          "RawPrice": 147.85500000000002,
          "Row": "8",
          "Section": "302",
          "W_Avg_Price": 0.20935221238938057
         },
         {
          "QuantityRange": 4,
          "RawPrice": 156.025,
          "Row": "9",
          "Section": "302",
          "W_Avg_Price": 0.11046017699115045
         },
         {
          "QuantityRange": 4,
          "RawPrice": 121.49,
          "Row": "",
          "Section": "303",
          "W_Avg_Price": 0.08601061946902655
         },
         {
          "QuantityRange": 12,
          "RawPrice": 170.55,
          "Row": "1",
          "Section": "303",
          "W_Avg_Price": 0.36223008849557525
         },
         {
          "QuantityRange": 6,
          "RawPrice": 163.5,
          "Row": "10",
          "Section": "303",
          "W_Avg_Price": 0.1736283185840708
         },
         {
          "QuantityRange": 8,
          "RawPrice": 139,
          "Row": "12",
          "Section": "303",
          "W_Avg_Price": 0.19681415929203538
         },
         {
          "QuantityRange": 8,
          "RawPrice": 193.03,
          "Row": "13",
          "Section": "303",
          "W_Avg_Price": 0.27331681415929204
         },
         {
          "QuantityRange": 6,
          "RawPrice": 157.45499999999998,
          "Row": "2",
          "Section": "303",
          "W_Avg_Price": 0.1672088495575221
         },
         {
          "QuantityRange": 14,
          "RawPrice": 141.255,
          "Row": "3",
          "Section": "303",
          "W_Avg_Price": 0.350012389380531
         },
         {
          "QuantityRange": 4,
          "RawPrice": 279.86,
          "Row": "4",
          "Section": "303",
          "W_Avg_Price": 0.19813097345132744
         },
         {
          "QuantityRange": 6,
          "RawPrice": 152.1,
          "Row": "6",
          "Section": "303",
          "W_Avg_Price": 0.1615221238938053
         },
         {
          "QuantityRange": 18,
          "RawPrice": 131.39999999999998,
          "Row": "9",
          "Section": "303",
          "W_Avg_Price": 0.4186194690265486
         },
         {
          "QuantityRange": 4,
          "RawPrice": 174.44,
          "Row": "1",
          "Section": "304",
          "W_Avg_Price": 0.12349734513274337
         },
         {
          "QuantityRange": 8,
          "RawPrice": 245.99,
          "Row": "10",
          "Section": "304",
          "W_Avg_Price": 0.34830442477876106
         },
         {
          "QuantityRange": 4,
          "RawPrice": 100.8,
          "Row": "11",
          "Section": "304",
          "W_Avg_Price": 0.07136283185840708
         },
         {
          "QuantityRange": 12,
          "RawPrice": 97.83,
          "Row": "12",
          "Section": "304",
          "W_Avg_Price": 0.20778053097345134
         },
         {
          "QuantityRange": 4,
          "RawPrice": 100.8,
          "Row": "13",
          "Section": "304",
          "W_Avg_Price": 0.07136283185840708
         },
         {
          "QuantityRange": 4,
          "RawPrice": 256.25,
          "Row": "14",
          "Section": "304",
          "W_Avg_Price": 0.18141592920353983
         },
         {
          "QuantityRange": 4,
          "RawPrice": 103.38,
          "Row": "2",
          "Section": "304",
          "W_Avg_Price": 0.07318938053097344
         },
         {
          "QuantityRange": 4,
          "RawPrice": 143.08,
          "Row": "7",
          "Section": "304",
          "W_Avg_Price": 0.10129557522123894
         },
         {
          "QuantityRange": 6,
          "RawPrice": 113.18,
          "Row": "8",
          "Section": "304",
          "W_Avg_Price": 0.12019115044247788
         },
         {
          "QuantityRange": 4,
          "RawPrice": 108,
          "Row": "1",
          "Section": "305",
          "W_Avg_Price": 0.07646017699115044
         },
         {
          "QuantityRange": 8,
          "RawPrice": 170.14,
          "Row": "12",
          "Section": "305",
          "W_Avg_Price": 0.24090619469026547
         },
         {
          "QuantityRange": 8,
          "RawPrice": 129.6,
          "Row": "2",
          "Section": "305",
          "W_Avg_Price": 0.18350442477876105
         },
         {
          "QuantityRange": 8,
          "RawPrice": 118.8,
          "Row": "3",
          "Section": "305",
          "W_Avg_Price": 0.16821238938053096
         },
         {
          "QuantityRange": 8,
          "RawPrice": 129.8,
          "Row": "7",
          "Section": "305",
          "W_Avg_Price": 0.18378761061946905
         },
         {
          "QuantityRange": 36,
          "RawPrice": 173.0533333333333,
          "Row": "8",
          "Section": "305",
          "W_Avg_Price": 1.1026407079646017
         },
         {
          "QuantityRange": 2,
          "RawPrice": 160.3,
          "Row": "10",
          "Section": "306",
          "W_Avg_Price": 0.056743362831858414
         },
         {
          "QuantityRange": 8,
          "RawPrice": 158.3,
          "Row": "2",
          "Section": "306",
          "W_Avg_Price": 0.224141592920354
         },
         {
          "QuantityRange": 8,
          "RawPrice": 113.78,
          "Row": "3",
          "Section": "306",
          "W_Avg_Price": 0.16110442477876105
         },
         {
          "QuantityRange": 4,
          "RawPrice": 202.96,
          "Row": "4",
          "Section": "306",
          "W_Avg_Price": 0.14368849557522123
         },
         {
          "QuantityRange": 8,
          "RawPrice": 135.69,
          "Row": "5",
          "Section": "306",
          "W_Avg_Price": 0.19212743362831858
         },
         {
          "QuantityRange": 4,
          "RawPrice": 136.35,
          "Row": "7",
          "Section": "306",
          "W_Avg_Price": 0.09653097345132743
         },
         {
          "QuantityRange": 12,
          "RawPrice": 143.56,
          "Row": "8",
          "Section": "306",
          "W_Avg_Price": 0.3049061946902655
         },
         {
          "QuantityRange": 20,
          "RawPrice": 228.45999999999998,
          "Row": "9",
          "Section": "306",
          "W_Avg_Price": 0.8087079646017699
         },
         {
          "QuantityRange": 4,
          "RawPrice": 123.68,
          "Row": "1",
          "Section": "307",
          "W_Avg_Price": 0.08756106194690266
         },
         {
          "QuantityRange": 16,
          "RawPrice": 123.06,
          "Row": "4",
          "Section": "307",
          "W_Avg_Price": 0.34848849557522127
         },
         {
          "QuantityRange": 4,
          "RawPrice": 193.16,
          "Row": "5",
          "Section": "307",
          "W_Avg_Price": 0.1367504424778761
         },
         {
          "QuantityRange": 12,
          "RawPrice": 227.07999999999998,
          "Row": "8",
          "Section": "307",
          "W_Avg_Price": 0.48229380530973454
         },
         {
          "QuantityRange": 12,
          "RawPrice": 228.64999999999998,
          "Row": "7",
          "Section": "308",
          "W_Avg_Price": 0.48562831858407074
         },
         {
          "QuantityRange": 8,
          "RawPrice": 172.38,
          "Row": "1",
          "Section": "309",
          "W_Avg_Price": 0.2440778761061947
         },
         {
          "QuantityRange": 8,
          "RawPrice": 192.66,
          "Row": "6",
          "Section": "309",
          "W_Avg_Price": 0.2727929203539823
         },
         {
          "QuantityRange": 12,
          "RawPrice": 228.64999999999998,
          "Row": "7",
          "Section": "309",
          "W_Avg_Price": 0.48562831858407074
         },
         {
          "QuantityRange": 8,
          "RawPrice": 148.05,
          "Row": "1",
          "Section": "310",
          "W_Avg_Price": 0.2096283185840708
         },
         {
          "QuantityRange": 4,
          "RawPrice": 194.13,
          "Row": "3",
          "Section": "310",
          "W_Avg_Price": 0.13743716814159293
         },
         {
          "QuantityRange": 12,
          "RawPrice": 228.64999999999998,
          "Row": "7",
          "Section": "310",
          "W_Avg_Price": 0.48562831858407074
         },
         {
          "QuantityRange": 10,
          "RawPrice": 272.75,
          "Row": "7",
          "Section": "311",
          "W_Avg_Price": 0.4827433628318584
         },
         {
          "QuantityRange": 4,
          "RawPrice": 213.64,
          "Row": "1",
          "Section": "312",
          "W_Avg_Price": 0.15124955752212388
         },
         {
          "QuantityRange": 4,
          "RawPrice": 169.32,
          "Row": "2",
          "Section": "312",
          "W_Avg_Price": 0.11987256637168141
         },
         {
          "QuantityRange": 8,
          "RawPrice": 135.35500000000002,
          "Row": "4",
          "Section": "312",
          "W_Avg_Price": 0.19165309734513278
         },
         {
          "QuantityRange": 32,
          "RawPrice": 142.214,
          "Row": "5",
          "Section": "312",
          "W_Avg_Price": 0.8054598230088496
         },
         {
          "QuantityRange": 8,
          "RawPrice": 189.26,
          "Row": "6",
          "Section": "312",
          "W_Avg_Price": 0.2679787610619469
         },
         {
          "QuantityRange": 4,
          "RawPrice": 153,
          "Row": "7",
          "Section": "312",
          "W_Avg_Price": 0.10831858407079646
         },
         {
          "QuantityRange": 4,
          "RawPrice": 149.4,
          "Row": "1",
          "Section": "313",
          "W_Avg_Price": 0.10576991150442479
         },
         {
          "QuantityRange": 20,
          "RawPrice": 139.81333333333333,
          "Row": "6",
          "Section": "313",
          "W_Avg_Price": 0.4949144542772861
         },
         {
          "QuantityRange": 10,
          "RawPrice": 228.13333333333335,
          "Row": "8",
          "Section": "313",
          "W_Avg_Price": 0.40377581120943956
         },
         {
          "QuantityRange": 4,
          "RawPrice": 358.42,
          "Row": "9",
          "Section": "313",
          "W_Avg_Price": 0.2537486725663717
         },
         {
          "QuantityRange": 8,
          "RawPrice": 166.995,
          "Row": "10",
          "Section": "314",
          "W_Avg_Price": 0.23645309734513276
         },
         {
          "QuantityRange": 16,
          "RawPrice": 136.13,
          "Row": "12",
          "Section": "314",
          "W_Avg_Price": 0.3855008849557522
         },
         {
          "QuantityRange": 6,
          "RawPrice": 360,
          "Row": "4",
          "Section": "314",
          "W_Avg_Price": 0.3823008849557522
         },
         {
          "QuantityRange": 6,
          "RawPrice": 157.51,
          "Row": "7",
          "Section": "314",
          "W_Avg_Price": 0.16726725663716813
         },
         {
          "QuantityRange": 6,
          "RawPrice": 163.5,
          "Row": "8",
          "Section": "314",
          "W_Avg_Price": 0.1736283185840708
         },
         {
          "QuantityRange": 4,
          "RawPrice": 214.62,
          "Row": "1",
          "Section": "315",
          "W_Avg_Price": 0.15194336283185841
         },
         {
          "QuantityRange": 16,
          "RawPrice": 176.47,
          "Row": "10",
          "Section": "315",
          "W_Avg_Price": 0.49973805309734515
         },
         {
          "QuantityRange": 4,
          "RawPrice": 98.62,
          "Row": "11",
          "Section": "315",
          "W_Avg_Price": 0.06981946902654868
         },
         {
          "QuantityRange": 6,
          "RawPrice": 132.95,
          "Row": "12",
          "Section": "315",
          "W_Avg_Price": 0.14118584070796458
         },
         {
          "QuantityRange": 10,
          "RawPrice": 144,
          "Row": "2",
          "Section": "315",
          "W_Avg_Price": 0.25486725663716814
         },
         {
          "QuantityRange": 4,
          "RawPrice": 112.5,
          "Row": "6",
          "Section": "315",
          "W_Avg_Price": 0.07964601769911504
         },
         {
          "QuantityRange": 16,
          "RawPrice": 136.49,
          "Row": "7",
          "Section": "315",
          "W_Avg_Price": 0.3865203539823009
         },
         {
          "QuantityRange": 4,
          "RawPrice": 114.95,
          "Row": "8",
          "Section": "315",
          "W_Avg_Price": 0.08138053097345133
         },
         {
          "QuantityRange": 4,
          "RawPrice": 439.61,
          "Row": "1",
          "Section": "316",
          "W_Avg_Price": 0.3112283185840708
         },
         {
          "QuantityRange": 4,
          "RawPrice": 135,
          "Row": "10",
          "Section": "316",
          "W_Avg_Price": 0.09557522123893805
         },
         {
          "QuantityRange": 4,
          "RawPrice": 409.08,
          "Row": "11",
          "Section": "316",
          "W_Avg_Price": 0.2896141592920354
         },
         {
          "QuantityRange": 6,
          "RawPrice": 153.825,
          "Row": "3",
          "Section": "316",
          "W_Avg_Price": 0.16335398230088494
         },
         {
          "QuantityRange": 8,
          "RawPrice": 126,
          "Row": "4",
          "Section": "316",
          "W_Avg_Price": 0.1784070796460177
         },
         {
          "QuantityRange": 20,
          "RawPrice": 1044,
          "Row": "5",
          "Section": "316",
          "W_Avg_Price": 3.695575221238938
         },
         {
          "QuantityRange": 8,
          "RawPrice": 166.5,
          "Row": "7",
          "Section": "316",
          "W_Avg_Price": 0.23575221238938054
         },
         {
          "QuantityRange": 4,
          "RawPrice": 135,
          "Row": "8",
          "Section": "316",
          "W_Avg_Price": 0.09557522123893805
         },
         {
          "QuantityRange": 4,
          "RawPrice": 237.78,
          "Row": "10",
          "Section": "317",
          "W_Avg_Price": 0.16833982300884956
         },
         {
          "QuantityRange": 16,
          "RawPrice": 155,
          "Row": "11",
          "Section": "317",
          "W_Avg_Price": 0.4389380530973451
         },
         {
          "QuantityRange": 12,
          "RawPrice": 151.29,
          "Row": "12",
          "Section": "317",
          "W_Avg_Price": 0.32132389380530973
         },
         {
          "QuantityRange": 6,
          "RawPrice": 630.835,
          "Row": "2",
          "Section": "317",
          "W_Avg_Price": 0.6699132743362832
         },
         {
          "QuantityRange": 6,
          "RawPrice": 198.365,
          "Row": "4",
          "Section": "317",
          "W_Avg_Price": 0.21065309734513274
         },
         {
          "QuantityRange": 12,
          "RawPrice": 202.12,
          "Row": "5",
          "Section": "317",
          "W_Avg_Price": 0.42928141592920355
         },
         {
          "QuantityRange": 8,
          "RawPrice": 152.38,
          "Row": "6",
          "Section": "317",
          "W_Avg_Price": 0.21575929203539823
         },
         {
          "QuantityRange": 16,
          "RawPrice": 196.13,
          "Row": "7",
          "Section": "317",
          "W_Avg_Price": 0.555412389380531
         },
         {
          "QuantityRange": 12,
          "RawPrice": 155.66,
          "Row": "8",
          "Section": "317",
          "W_Avg_Price": 0.3306053097345133
         },
         {
          "QuantityRange": 2,
          "RawPrice": 386.79,
          "Row": "1",
          "Section": "318",
          "W_Avg_Price": 0.13691681415929205
         },
         {
          "QuantityRange": 28,
          "RawPrice": 237.282,
          "Row": "10",
          "Section": "318",
          "W_Avg_Price": 1.1759107964601772
         },
         {
          "QuantityRange": 8,
          "RawPrice": 150.82,
          "Row": "12",
          "Section": "318",
          "W_Avg_Price": 0.2135504424778761
         },
         {
          "QuantityRange": 14,
          "RawPrice": 221.46333333333334,
          "Row": "7",
          "Section": "318",
          "W_Avg_Price": 0.5487587020648967
         },
         {
          "QuantityRange": 16,
          "RawPrice": 197.84,
          "Row": "8",
          "Section": "318",
          "W_Avg_Price": 0.5602548672566372
         },
         {
          "QuantityRange": 4,
          "RawPrice": 168.3,
          "Row": "9",
          "Section": "318",
          "W_Avg_Price": 0.11915044247787611
         },
         {
          "QuantityRange": 6,
          "RawPrice": 207.46,
          "Row": "10",
          "Section": "319",
          "W_Avg_Price": 0.22031150442477876
         },
         {
          "QuantityRange": 4,
          "RawPrice": 465.74,
          "Row": "12",
          "Section": "319",
          "W_Avg_Price": 0.3297274336283186
         },
         {
          "QuantityRange": 6,
          "RawPrice": 209.7,
          "Row": "3",
          "Section": "319",
          "W_Avg_Price": 0.22269026548672563
         },
         {
          "QuantityRange": 12,
          "RawPrice": 168,
          "Row": "4",
          "Section": "319",
          "W_Avg_Price": 0.3568141592920354
         },
         {
          "QuantityRange": 4,
          "RawPrice": 132.78,
          "Row": "5",
          "Section": "319",
          "W_Avg_Price": 0.09400353982300885
         },
         {
          "QuantityRange": 4,
          "RawPrice": 146.7,
          "Row": "6",
          "Section": "319",
          "W_Avg_Price": 0.10385840707964601
         },
         {
          "QuantityRange": 28,
          "RawPrice": 258.66,
          "Row": "7",
          "Section": "319",
          "W_Avg_Price": 1.2818548672566372
         },
         {
          "QuantityRange": 18,
          "RawPrice": 186.745,
          "Row": "8",
          "Section": "319",
          "W_Avg_Price": 0.5949398230088495
         },
         {
          "QuantityRange": 18,
          "RawPrice": 147.96666666666667,
          "Row": "9",
          "Section": "319",
          "W_Avg_Price": 0.4713982300884956
         },
         {
          "QuantityRange": 12,
          "RawPrice": 183.59,
          "Row": "1",
          "Section": "320",
          "W_Avg_Price": 0.38992566371681414
         },
         {
          "QuantityRange": 4,
          "RawPrice": 135,
          "Row": "10",
          "Section": "320",
          "W_Avg_Price": 0.09557522123893805
         },
         {
          "QuantityRange": 2,
          "RawPrice": 164.3,
          "Row": "12",
          "Section": "320",
          "W_Avg_Price": 0.058159292035398234
         },
         {
          "QuantityRange": 8,
          "RawPrice": 153.36,
          "Row": "4",
          "Section": "320",
          "W_Avg_Price": 0.21714690265486727
         },
         {
          "QuantityRange": 8,
          "RawPrice": 155.9,
          "Row": "5",
          "Section": "320",
          "W_Avg_Price": 0.22074336283185841
         },
         {
          "QuantityRange": 30,
          "RawPrice": 168.07999999999998,
          "Row": "7",
          "Section": "320",
          "W_Avg_Price": 0.8924601769911504
         },
         {
          "QuantityRange": 8,
          "RawPrice": 103.5,
          "Row": "8",
          "Section": "320",
          "W_Avg_Price": 0.1465486725663717
         },
         {
          "QuantityRange": 4,
          "RawPrice": 116.1,
          "Row": "9",
          "Section": "320",
          "W_Avg_Price": 0.08219469026548672
         },
         {
          "QuantityRange": 8,
          "RawPrice": 162.28,
          "Row": "1",
          "Section": "321",
          "W_Avg_Price": 0.22977699115044248
         },
         {
          "QuantityRange": 4,
          "RawPrice": 107.1,
          "Row": "10",
          "Section": "321",
          "W_Avg_Price": 0.07582300884955752
         },
         {
          "QuantityRange": 8,
          "RawPrice": 1044,
          "Row": "11",
          "Section": "321",
          "W_Avg_Price": 1.4782300884955752
         },
         {
          "QuantityRange": 4,
          "RawPrice": 146.02,
          "Row": "3",
          "Section": "321",
          "W_Avg_Price": 0.10337699115044248
         },
         {
          "QuantityRange": 20,
          "RawPrice": 327.95666666666665,
          "Row": "8",
          "Section": "321",
          "W_Avg_Price": 1.1609085545722713
         },
         {
          "QuantityRange": 12,
          "RawPrice": 142.87,
          "Row": "9",
          "Section": "321",
          "W_Avg_Price": 0.30344070796460176
         },
         {
          "QuantityRange": 12,
          "RawPrice": 228.64999999999998,
          "Row": "6",
          "Section": "322",
          "W_Avg_Price": 0.48562831858407074
         },
         {
          "QuantityRange": 4,
          "RawPrice": 112.5,
          "Row": "2W",
          "Section": "325",
          "W_Avg_Price": 0.07964601769911504
         },
         {
          "QuantityRange": 12,
          "RawPrice": 237.325,
          "Row": "1",
          "Section": "326",
          "W_Avg_Price": 0.5040530973451327
         },
         {
          "QuantityRange": 8,
          "RawPrice": 199.81,
          "Row": "2",
          "Section": "326",
          "W_Avg_Price": 0.28291681415929204
         },
         {
          "QuantityRange": 12,
          "RawPrice": 237.325,
          "Row": "1",
          "Section": "327",
          "W_Avg_Price": 0.5040530973451327
         },
         {
          "QuantityRange": 8,
          "RawPrice": 199.81,
          "Row": "2",
          "Section": "327",
          "W_Avg_Price": 0.28291681415929204
         },
         {
          "QuantityRange": 10,
          "RawPrice": 283.13,
          "Row": "3",
          "Section": "327",
          "W_Avg_Price": 0.5011150442477876
         },
         {
          "QuantityRange": 12,
          "RawPrice": 151.92666666666665,
          "Row": "2W",
          "Section": "328",
          "W_Avg_Price": 0.3226761061946902
         },
         {
          "QuantityRange": 16,
          "RawPrice": 237.325,
          "Row": "1",
          "Section": "329",
          "W_Avg_Price": 0.672070796460177
         },
         {
          "QuantityRange": 4,
          "RawPrice": 179.34,
          "Row": "1",
          "Section": "330",
          "W_Avg_Price": 0.12696637168141592
         },
         {
          "QuantityRange": 4,
          "RawPrice": 112.7,
          "Row": "2",
          "Section": "330",
          "W_Avg_Price": 0.07978761061946903
         },
         {
          "QuantityRange": 4,
          "RawPrice": 106.28,
          "Row": "4",
          "Section": "330",
          "W_Avg_Price": 0.07524247787610619
         },
         {
          "QuantityRange": 8,
          "RawPrice": 139.685,
          "Row": "6",
          "Section": "330",
          "W_Avg_Price": 0.19778407079646018
         },
         {
          "QuantityRange": 10,
          "RawPrice": 222.75,
          "Row": "9",
          "Section": "330",
          "W_Avg_Price": 0.39424778761061946
         },
         {
          "QuantityRange": 4,
          "RawPrice": 94.5,
          "Row": "1",
          "Section": "331",
          "W_Avg_Price": 0.06690265486725663
         },
         {
          "QuantityRange": 8,
          "RawPrice": 269.1,
          "Row": "10",
          "Section": "331",
          "W_Avg_Price": 0.3810265486725664
         },
         {
          "QuantityRange": 8,
          "RawPrice": 146.16,
          "Row": "12",
          "Section": "331",
          "W_Avg_Price": 0.20695221238938052
         },
         {
          "QuantityRange": 4,
          "RawPrice": 118.73,
          "Row": "2",
          "Section": "331",
          "W_Avg_Price": 0.0840566371681416
         },
         {
          "QuantityRange": 8,
          "RawPrice": 137.2,
          "Row": "3",
          "Section": "331",
          "W_Avg_Price": 0.1942654867256637
         },
         {
          "QuantityRange": 4,
          "RawPrice": 112.7,
          "Row": "4",
          "Section": "331",
          "W_Avg_Price": 0.07978761061946903
         },
         {
          "QuantityRange": 4,
          "RawPrice": 103.38,
          "Row": "5",
          "Section": "331",
          "W_Avg_Price": 0.07318938053097344
         },
         {
          "QuantityRange": 2,
          "RawPrice": 165.3,
          "Row": "6",
          "Section": "331",
          "W_Avg_Price": 0.05851327433628319
         },
         {
          "QuantityRange": 8,
          "RawPrice": 136.39999999999998,
          "Row": "8",
          "Section": "331",
          "W_Avg_Price": 0.19313274336283182
         },
         {
          "QuantityRange": 8,
          "RawPrice": 284.2,
          "Row": "1",
          "Section": "332",
          "W_Avg_Price": 0.4024070796460177
         },
         {
          "QuantityRange": 4,
          "RawPrice": 266.49,
          "Row": "10",
          "Section": "332",
          "W_Avg_Price": 0.18866548672566372
         },
         {
          "QuantityRange": 4,
          "RawPrice": 100.8,
          "Row": "11",
          "Section": "332",
          "W_Avg_Price": 0.07136283185840708
         },
         {
          "QuantityRange": 4,
          "RawPrice": 427.57,
          "Row": "14",
          "Section": "332",
          "W_Avg_Price": 0.3027044247787611
         },
         {
          "QuantityRange": 6,
          "RawPrice": 89.1,
          "Row": "15",
          "Section": "332",
          "W_Avg_Price": 0.09461946902654865
         },
         {
          "QuantityRange": 8,
          "RawPrice": 142.1,
          "Row": "2",
          "Section": "332",
          "W_Avg_Price": 0.20120353982300884
         },
         {
          "QuantityRange": 8,
          "RawPrice": 142.45,
          "Row": "6",
          "Section": "332",
          "W_Avg_Price": 0.20169911504424778
         },
         {
          "QuantityRange": 8,
          "RawPrice": 133.57,
          "Row": "7",
          "Section": "332",
          "W_Avg_Price": 0.18912566371681416
         },
         {
          "QuantityRange": 20,
          "RawPrice": 138.22666666666666,
          "Row": "9",
          "Section": "332",
          "W_Avg_Price": 0.4892979351032448
         },
         {
          "QuantityRange": 10,
          "RawPrice": 170.36666666666667,
          "Row": "1",
          "Section": "333",
          "W_Avg_Price": 0.3015339233038348
         },
         {
          "QuantityRange": 12,
          "RawPrice": 5492.865,
          "Row": "11",
          "Section": "333",
          "W_Avg_Price": 11.666261946902656
         },
         {
          "QuantityRange": 8,
          "RawPrice": 189,
          "Row": "13",
          "Section": "333",
          "W_Avg_Price": 0.26761061946902653
         },
         {
          "QuantityRange": 18,
          "RawPrice": 211.04,
          "Row": "14",
          "Section": "333",
          "W_Avg_Price": 0.6723398230088495
         },
         {
          "QuantityRange": 4,
          "RawPrice": 112.5,
          "Row": "15",
          "Section": "333",
          "W_Avg_Price": 0.07964601769911504
         },
         {
          "QuantityRange": 4,
          "RawPrice": 148.41,
          "Row": "2",
          "Section": "333",
          "W_Avg_Price": 0.10506902654867256
         },
         {
          "QuantityRange": 10,
          "RawPrice": 152.38,
          "Row": "3",
          "Section": "333",
          "W_Avg_Price": 0.26969911504424776
         },
         {
          "QuantityRange": 8,
          "RawPrice": 153.36,
          "Row": "4",
          "Section": "333",
          "W_Avg_Price": 0.21714690265486727
         },
         {
          "QuantityRange": 10,
          "RawPrice": 143.1,
          "Row": "5",
          "Section": "333",
          "W_Avg_Price": 0.25327433628318585
         },
         {
          "QuantityRange": 16,
          "RawPrice": 138.575,
          "Row": "6",
          "Section": "333",
          "W_Avg_Price": 0.3924247787610619
         },
         {
          "QuantityRange": 4,
          "RawPrice": 359.93,
          "Row": "9",
          "Section": "333",
          "W_Avg_Price": 0.25481769911504426
         },
         {
          "QuantityRange": 8,
          "RawPrice": 135,
          "Row": "10",
          "Section": "334",
          "W_Avg_Price": 0.1911504424778761
         },
         {
          "QuantityRange": 4,
          "RawPrice": 107.1,
          "Row": "11",
          "Section": "334",
          "W_Avg_Price": 0.07582300884955752
         },
         {
          "QuantityRange": 4,
          "RawPrice": 144,
          "Row": "12",
          "Section": "334",
          "W_Avg_Price": 0.10194690265486726
         },
         {
          "QuantityRange": 8,
          "RawPrice": 132.3,
          "Row": "13",
          "Section": "334",
          "W_Avg_Price": 0.1873274336283186
         },
         {
          "QuantityRange": 4,
          "RawPrice": 96.3,
          "Row": "15",
          "Section": "334",
          "W_Avg_Price": 0.06817699115044247
         },
         {
          "QuantityRange": 12,
          "RawPrice": 183.82333333333335,
          "Row": "6",
          "Section": "334",
          "W_Avg_Price": 0.39042123893805314
         },
         {
          "QuantityRange": 8,
          "RawPrice": 132.78,
          "Row": "7",
          "Section": "334",
          "W_Avg_Price": 0.1880070796460177
         },
         {
          "QuantityRange": 12,
          "RawPrice": 192.615,
          "Row": "8",
          "Section": "334",
          "W_Avg_Price": 0.40909380530973455
         },
         {
          "QuantityRange": 4,
          "RawPrice": 18000,
          "Row": "17",
          "Section": "A09",
          "W_Avg_Price": 12.743362831858407
         },
         {
          "QuantityRange": 16,
          "RawPrice": 429.98,
          "Row": "",
          "Section": "A48",
          "W_Avg_Price": 1.2176424778761064
         },
         {
          "QuantityRange": 24,
          "RawPrice": 1642.55,
          "Row": "",
          "Section": "B Level Suites",
          "W_Avg_Price": 6.977203539823008
         },
         {
          "QuantityRange": 24,
          "RawPrice": 308.7,
          "Row": "",
          "Section": "B03",
          "W_Avg_Price": 1.31129203539823
         },
         {
          "QuantityRange": 12,
          "RawPrice": 294,
          "Row": "SRO",
          "Section": "B03",
          "W_Avg_Price": 0.624424778761062
         },
         {
          "QuantityRange": 2,
          "RawPrice": 4410,
          "Row": "18TIX",
          "Section": "B04",
          "W_Avg_Price": 1.5610619469026548
         },
         {
          "QuantityRange": 4,
          "RawPrice": 360,
          "Row": "1",
          "Section": "B16",
          "W_Avg_Price": 0.25486725663716814
         },
         {
          "QuantityRange": 24,
          "RawPrice": 238.13,
          "Row": "",
          "Section": "B34",
          "W_Avg_Price": 1.0115256637168142
         },
         {
          "QuantityRange": 6,
          "RawPrice": 269.5,
          "Row": "",
          "Section": "B59",
          "W_Avg_Price": 0.2861946902654867
         },
         {
          "QuantityRange": 8,
          "RawPrice": 255.78,
          "Row": "SRO",
          "Section": "B59",
          "W_Avg_Price": 0.3621663716814159
         },
         {
          "QuantityRange": 24,
          "RawPrice": 1296.75,
          "Row": "",
          "Section": "C Level Suites",
          "W_Avg_Price": 5.508318584070796
         },
         {
          "QuantityRange": 20,
          "RawPrice": 192.7,
          "Row": "",
          "Section": "C03",
          "W_Avg_Price": 0.6821238938053097
         },
         {
          "QuantityRange": 4,
          "RawPrice": 196,
          "Row": "",
          "Section": "C04",
          "W_Avg_Price": 0.13876106194690266
         },
         {
          "QuantityRange": 24,
          "RawPrice": 245,
          "Row": "",
          "Section": "C29",
          "W_Avg_Price": 1.0407079646017698
         },
         {
          "QuantityRange": 2,
          "RawPrice": 5145,
          "Row": "18TIX",
          "Section": "C30",
          "W_Avg_Price": 1.8212389380530973
         },
         {
          "QuantityRange": 24,
          "RawPrice": 454.75,
          "Row": "",
          "Section": "C32",
          "W_Avg_Price": 1.9316814159292035
         },
         {
          "QuantityRange": 18,
          "RawPrice": 254.8,
          "Row": "",
          "Section": "C37",
          "W_Avg_Price": 0.8117522123893807
         },
         {
          "QuantityRange": 2,
          "RawPrice": 2940,
          "Row": "12TIX",
          "Section": "C41",
          "W_Avg_Price": 1.0407079646017698
         },
         {
          "QuantityRange": 14,
          "RawPrice": 230.3,
          "Row": "",
          "Section": "C42",
          "W_Avg_Price": 0.5706548672566372
         },
         {
          "QuantityRange": 24,
          "RawPrice": 230.78,
          "Row": "",
          "Section": "C43",
          "W_Avg_Price": 0.9803044247787611
         },
         {
          "QuantityRange": 16,
          "RawPrice": 11645.546666666667,
          "Row": "1",
          "Section": "CRT",
          "W_Avg_Price": 32.97853923303835
         },
         {
          "QuantityRange": 4,
          "RawPrice": 445.5,
          "Row": "14",
          "Section": "Loge Level 104",
          "W_Avg_Price": 0.3153982300884956
         },
         {
          "QuantityRange": 8,
          "RawPrice": 476.1,
          "Row": "14",
          "Section": "Loge Level 118",
          "W_Avg_Price": 0.6741238938053098
         }
        ]
       },
       "encoding": {
        "color": {
         "field": "W_Avg_Price",
         "scale": {
          "scheme": "greenblue",
          "type": "log"
         },
         "type": "quantitative"
        },
        "tooltip": [
         {
          "field": "Section",
          "type": "nominal"
         },
         {
          "field": "Row",
          "type": "nominal"
         },
         {
          "field": "QuantityRange",
          "type": "quantitative"
         },
         {
          "field": "RawPrice",
          "format": "$.0f",
          "type": "quantitative"
         }
        ],
        "x": {
         "axis": {
          "labelAngle": -45,
          "orient": "top"
         },
         "field": "Row",
         "sort": [
          "1",
          "2",
          "3",
          "4",
          "5",
          "6",
          "7",
          "8",
          "9",
          "10",
          "11",
          "12",
          "13",
          "14",
          "15",
          "16",
          "17",
          "18",
          "19",
          "20",
          "",
          "10W",
          "12TIX",
          "18TIX",
          "18W",
          "2W",
          "A",
          "B",
          "C",
          "D",
          "E",
          "F",
          "G",
          "H",
          "J",
          "K",
          "L",
          "M",
          "None",
          "SRO"
         ],
         "title": null,
         "type": "nominal"
        },
        "y": {
         "field": "Section",
         "sort": [
          "101",
          "102",
          "103",
          "104",
          "105",
          "106",
          "107",
          "108",
          "109",
          "110",
          "111",
          "112",
          "113",
          "114",
          "115",
          "116",
          "117",
          "118",
          "119",
          "205",
          "206",
          "207",
          "208",
          "209",
          "210",
          "214",
          "215",
          "216",
          "217",
          "218",
          "219",
          "301",
          "302",
          "303",
          "304",
          "305",
          "306",
          "307",
          "308",
          "309",
          "310",
          "311",
          "312",
          "313",
          "314",
          "315",
          "316",
          "317",
          "318",
          "319",
          "320",
          "321",
          "322",
          "325",
          "326",
          "327",
          "328",
          "329",
          "330",
          "331",
          "332",
          "333",
          "334",
          "A09",
          "A48",
          "B Level Suites",
          "B03",
          "B04",
          "B16",
          "B34",
          "B59",
          "C Level Suites",
          "C-40",
          "C-44",
          "C-6",
          "C03",
          "C04",
          "C29",
          "C30",
          "C32",
          "C37",
          "C41",
          "C42",
          "C43",
          "CRT",
          "LOT C",
          "Lexus Club Pass",
          "Loge Level 104",
          "Loge Level 118",
          "PARKING",
          "PARKINGING",
          "PR01",
          "PR02",
          "PR03",
          "PR04",
          "PR05",
          "PR06",
          "PR07",
          "PR08",
          "PR09",
          "PR10",
          "PR11",
          "PR12",
          "PR13",
          "PR14",
          "PR15",
          "PR16",
          "PR17",
          "PR18"
         ],
         "title": null,
         "type": "nominal"
        }
       },
       "height": 1000,
       "mark": "rect",
       "title": "Avg Price by Section and Row for Event 150339062",
       "usermeta": {
        "embedOptions": {
         "theme": "dark"
        }
       },
       "width": 750
      },
      "text/plain": [
       "<VegaLite 4 object>\n",
       "\n",
       "If you see this message, it means the renderer has not been properly enabled\n",
       "for the frontend that you are using. For more information, see\n",
       "https://altair-viz.github.io/user_guide/troubleshooting.html\n"
      ]
     },
     "execution_count": 6,
     "metadata": {},
     "output_type": "execute_result"
    }
   ],
   "source": [
    "al.renderers.enable('jupyterlab')\n",
    "\n",
    "heat_chart = al.Chart(heat_data, title=f'Avg Price by Section and Row for Event {150339062}').mark_rect().encode(\n",
    "    x=al.X('Row', title=None, sort=sort_mixed_list(df['Row'].unique()), axis=al.Axis(orient=\"top\",labelAngle=-45)),\n",
    "    y=al.Y('Section', title=None, sort=sort_mixed_list(df['Section'].unique())),\n",
    "    color=al.Color('W_Avg_Price', scale=al.Scale(type='log',scheme='greenblue')),\n",
    "    tooltip=['Section','Row','QuantityRange',al.Tooltip('RawPrice', format=\"$.0f\")]\n",
    ").properties(\n",
    "    width=750,\n",
    "    height=1000\n",
    ")\n",
    "# add colored labels \n",
    "text = heat_chart.mark_text(size=9).encode(\n",
    "    al.Text('RawPrice:Q', format=\"$.0f\"))\n",
    "\n",
    "heat_chart.configure(background='black')\n"
   ]
  },
  {
   "cell_type": "code",
   "execution_count": null,
   "metadata": {},
   "outputs": [],
   "source": []
  }
 ],
 "metadata": {
  "extensions": {
   "jupyter_dashboards": {
    "activeView": "report_default",
    "version": 1,
    "views": {
     "grid_default": {
      "cellMargin": 10,
      "defaultCellHeight": 20,
      "maxColumns": 12,
      "name": "grid",
      "type": "grid"
     },
     "report_default": {
      "name": "report",
      "type": "report"
     }
    }
   }
  },
  "kernelspec": {
   "display_name": "Python 3.9.12 64-bit ('base')",
   "language": "python",
   "name": "python3"
  },
  "language_info": {
   "codemirror_mode": {
    "name": "ipython",
    "version": 3
   },
   "file_extension": ".py",
   "mimetype": "text/x-python",
   "name": "python",
   "nbconvert_exporter": "python",
   "pygments_lexer": "ipython3",
   "version": "3.9.12"
  },
  "vscode": {
   "interpreter": {
    "hash": "c8c1f90896f7892f340f3666737616014aa515454eac179f7547bb13254c304b"
   }
  }
 },
 "nbformat": 4,
 "nbformat_minor": 2
}
